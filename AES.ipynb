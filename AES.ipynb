{
 "cells": [
  {
   "cell_type": "code",
   "execution_count": 352,
   "id": "d1d63130",
   "metadata": {},
   "outputs": [],
   "source": [
    "import numpy as np\n",
    "import galois\n",
    "import imageio.v3 as iio\n",
    "import matplotlib.pyplot as plt\n",
    "# import hmac\n",
    "# import hashlib\n",
    "\n",
    "# Define the binary field GF(2)\n",
    "GF2 = galois.GF(2)\n",
    "\n",
    "# Define the irreducible polynomial used to construct GF(2^8)\n",
    "# Polynomial: x^8 + x^4 + x^3 + x + 1 (represented by the binary vector)\n",
    "irreducible_poly = galois.Poly([1,0,0,0,1,1,0,1,1], field = GF2)\n",
    "\n",
    "# Define the extension field GF(2^8) using the given irreducible polynomial\n",
    "Gfield = galois.GF(2**8, irreducible_poly = irreducible_poly)"
   ]
  },
  {
   "cell_type": "markdown",
   "id": "577eae36",
   "metadata": {},
   "source": [
    "## Shift rows"
   ]
  },
  {
   "cell_type": "code",
   "execution_count": 353,
   "id": "1d1e496f",
   "metadata": {},
   "outputs": [],
   "source": [
    "def shiftRows(stateMatrix):\n",
    "\n",
    "    # Applies AES ShiftRows step: \n",
    "    # Each row is cyclically shifted to the left by its row index\n",
    "    return Gfield(np.array([np.roll(row, shift = -i) for i, row in enumerate(stateMatrix)]))"
   ]
  },
  {
   "cell_type": "markdown",
   "id": "ed8bebbf",
   "metadata": {},
   "source": [
    "## Add round key"
   ]
  },
  {
   "cell_type": "code",
   "execution_count": 354,
   "id": "6d8ab8ea",
   "metadata": {},
   "outputs": [],
   "source": [
    "def addRoundKey(stateMatrix, w, i):\n",
    "\n",
    "    # XOR the current state matrix with the round key extracted from w\n",
    "    # w is the key schedule, and i is the round number\n",
    "    return stateMatrix + w[i * 4: i*4 + 4, :].transpose()"
   ]
  },
  {
   "cell_type": "markdown",
   "id": "a7a0abc8",
   "metadata": {},
   "source": [
    "## Mix columns"
   ]
  },
  {
   "cell_type": "code",
   "execution_count": 355,
   "id": "a8d85296",
   "metadata": {},
   "outputs": [],
   "source": [
    "\n",
    "def mixColumns(stateMatrix):\n",
    "\n",
    "    # Applies AES MixColumns transformation\n",
    "    # Each column of the state is multiplied by a fixed matrix (defined below)\n",
    "    A = Gfield(np.array([[0x02, 0x03, 0x01, 0x01],\n",
    "                         [0x01, 0x02, 0x03, 0x01],\n",
    "                         [0x01, 0x01, 0x02, 0x03],\n",
    "                         [0x03, 0x01, 0x01, 0x02]]))\n",
    "    \n",
    "    # Matrix multiplication in GF(2^8)\n",
    "    return A @ stateMatrix"
   ]
  },
  {
   "cell_type": "markdown",
   "id": "d289fa52",
   "metadata": {},
   "source": [
    "## Sub bytes"
   ]
  },
  {
   "cell_type": "code",
   "execution_count": 356,
   "id": "b8d9a1f4",
   "metadata": {},
   "outputs": [],
   "source": [
    "def getIndexFromHex(input):\n",
    "\n",
    "    # Extracts row and column index from a byte\n",
    "    # Upper 4 bits = row index, lower 4 bits = column index\n",
    "    return (input & 0xF0) >> 4, input & 0xF\n",
    "\n",
    "# 16x16 AES substitution box (S-box) used for the SubBytes step\n",
    "# Maps each byte to a nonlinear substitution value\n",
    "sbox = np.array([\n",
    "                [0x63, 0x7C, 0x77, 0x7B, 0xF2, 0x6B, 0x6F, 0xC5, 0x30, 0x01, 0x67, 0x2B, 0xFE, 0xD7, 0xAB, 0x76],\n",
    "                [0xCA, 0x82, 0xC9, 0x7D, 0xFA, 0x59, 0x47, 0xF0, 0xAD, 0xD4, 0xA2, 0xAF, 0x9C, 0xA4, 0x72, 0xC0],\n",
    "                [0xB7, 0xFD, 0x93, 0x26, 0x36, 0x3F, 0xF7, 0xCC, 0x34, 0xA5, 0xE5, 0xF1, 0x71, 0xD8, 0x31, 0x15],\n",
    "                [0x04, 0xC7, 0x23, 0xC3, 0x18, 0x96, 0x05, 0x9A, 0x07, 0x12, 0x80, 0xE2, 0xEB, 0x27, 0xB2, 0x75],\n",
    "                [0x09, 0x83, 0x2C, 0x1A, 0x1B, 0x6E, 0x5A, 0xA0, 0x52, 0x3B, 0xD6, 0xB3, 0x29, 0xE3, 0x2F, 0x84],\n",
    "                [0x53, 0xD1, 0x00, 0xED, 0x20, 0xFC, 0xB1, 0x5B, 0x6A, 0xCB, 0xBE, 0x39, 0x4A, 0x4C, 0x58, 0xCF],\n",
    "                [0xD0, 0xEF, 0xAA, 0xFB, 0x43, 0x4D, 0x33, 0x85, 0x45, 0xF9, 0x02, 0x7F, 0x50, 0x3C, 0x9F, 0xA8],\n",
    "                [0x51, 0xA3, 0x40, 0x8F, 0x92, 0x9D, 0x38, 0xF5, 0xBC, 0xB6, 0xDA, 0x21, 0x10, 0xFF, 0xF3, 0xD2],\n",
    "                [0xCD, 0x0C, 0x13, 0xEC, 0x5F, 0x97, 0x44, 0x17, 0xC4, 0xA7, 0x7E, 0x3D, 0x64, 0x5D, 0x19, 0x73],\n",
    "                [0x60, 0x81, 0x4F, 0xDC, 0x22, 0x2A, 0x90, 0x88, 0x46, 0xEE, 0xB8, 0x14, 0xDE, 0x5E, 0x0B, 0xDB],\n",
    "                [0xE0, 0x32, 0x3A, 0x0A, 0x49, 0x06, 0x24, 0x5C, 0xC2, 0xD3, 0xAC, 0x62, 0x91, 0x95, 0xE4, 0x79],\n",
    "                [0xE7, 0xC8, 0x37, 0x6D, 0x8D, 0xD5, 0x4E, 0xA9, 0x6C, 0x56, 0xF4, 0xEA, 0x65, 0x7A, 0xAE, 0x08],\n",
    "                [0xBA, 0x78, 0x25, 0x2E, 0x1C, 0xA6, 0xB4, 0xC6, 0xE8, 0xDD, 0x74, 0x1F, 0x4B, 0xBD, 0x8B, 0x8A],\n",
    "                [0x70, 0x3E, 0xB5, 0x66, 0x48, 0x03, 0xF6, 0x0E, 0x61, 0x35, 0x57, 0xB9, 0x86, 0xC1, 0x1D, 0x9E],\n",
    "                [0xE1, 0xF8, 0x98, 0x11, 0x69, 0xD9, 0x8E, 0x94, 0x9B, 0x1E, 0x87, 0xE9, 0xCE, 0x55, 0x28, 0xDF],\n",
    "                [0x8C, 0xA1, 0x89, 0x0D, 0xBF, 0xE6, 0x42, 0x68, 0x41, 0x99, 0x2D, 0x0F, 0xB0, 0x54, 0xBB, 0x16],\n",
    "                ]) # Full S-box omitted here for brevity; already correctly defined\n",
    "\n",
    "\n",
    "def subBytes(stateMatrix):\n",
    "    \n",
    "    # Applies the AES SubBytes step using the S-box\n",
    "    for i in range(np.shape(stateMatrix)[0]):\n",
    "        for j in range(np.shape(stateMatrix)[1]):\n",
    "            x, y = getIndexFromHex(stateMatrix[i, j])\n",
    "            stateMatrix[i, j] = sbox[x, y]\n",
    "    return stateMatrix"
   ]
  },
  {
   "cell_type": "markdown",
   "id": "a222a8ea",
   "metadata": {},
   "source": [
    "ref: https://gist.github.com/bonsaiviking/5571001"
   ]
  },
  {
   "cell_type": "markdown",
   "id": "3548e46f",
   "metadata": {},
   "source": [
    "## Key expansion"
   ]
  },
  {
   "cell_type": "code",
   "execution_count": 357,
   "id": "865ca5df",
   "metadata": {},
   "outputs": [],
   "source": [
    "def keyExpansion(key): \n",
    "    Nk = 4   #number of columns in state (Number of 32-bit words in the key (AES-128 uses 4)\n",
    "    Nb = 4   #number of 32 bit words in cipher key (Number of columns (words) in the state matrix)\n",
    "    Nr = 10  #number of rounds for AES-128\n",
    "    \n",
    "    # Initialize the key schedule matrix (44 words × 4 bytes = 176 bytes\n",
    "    w = np.zeros((44, 4), dtype = int)\n",
    "    \n",
    "    # First Nk words are taken directly from the original cipher key\n",
    "    w[:Nk, :] = key.reshape(4,4)\n",
    "    \n",
    "    i = Nk\n",
    "    while i < Nb * (Nr + 1):\n",
    "        # Copy previous word\n",
    "        temp = Gfield(w[i - 1,:]) \n",
    "        \n",
    "        if i % Nk == 0:\n",
    "\n",
    "            # Perform key schedule core:\n",
    "            # 1. Rotate left (RotWord)\n",
    "            afterRotWord = np.roll(temp, -1)\n",
    "\n",
    "            # 2. Apply SubWord (byte-wise substitution using S-box)\n",
    "            afterSubWord = subWord(afterRotWord)\n",
    "\n",
    "            # 3. XOR with round constant\n",
    "            temp = Gfield(afterSubWord) + Gfield(roundConstant(i//Nk))\n",
    "\n",
    "        # w[i] = w[i - Nk] XOR temp\n",
    "        w[i, :] = Gfield(w[i - Nk,:]) + temp\n",
    "        i += 1\n",
    "    return w\n",
    "\n",
    "def roundConstant(i):\n",
    "    if i == 1:\n",
    "        # First round constant is 0x01 followed by 0s\n",
    "        return Gfield(np.array([0x01, 0x0, 0x0, 0x0]))\n",
    "    \n",
    "    # Subsequent constants are powers of 0x02 in GF(2^8)\n",
    "    array = Gfield(np.array([0x02, 0x0, 0x0, 0x0]))\n",
    "    return array**(i-1)\n",
    "\n",
    "def subWord(vector):\n",
    "\n",
    "    # Applies the AES S-box substitution to a 4-byte word\n",
    "    for i in range(np.shape(vector)[0]):\n",
    "        x, y = getIndexFromHex(vector[i])\n",
    "        vector[i] = sbox[x, y]\n",
    "    return vector"
   ]
  },
  {
   "cell_type": "markdown",
   "id": "6f59b1ac",
   "metadata": {},
   "source": [
    "## AES Encrypt"
   ]
  },
  {
   "cell_type": "code",
   "execution_count": 358,
   "id": "8f834ab1",
   "metadata": {},
   "outputs": [],
   "source": [
    "def aesEncrypt(stateMatrix, key):\n",
    "\n",
    "    # Expand the key into round keys using keyExpansion\n",
    "    # w has shape (44, 4), 11 round keys of 4 words (4x4 each)\n",
    "    w = Gfield(keyExpansion(key))\n",
    "\n",
    "    # Initial AddRoundKey step before the first round\n",
    "    stateMatrix = stateMatrix + w[:4,:4].transpose()    \n",
    "    \n",
    "    # Perform 9 full rounds: SubBytes, ShiftRows, MixColumns, AddRoundKey\n",
    "    for i in range(1, 10):\n",
    "\n",
    "        # Byte-wise substitution using S-box\n",
    "        stateMatrix = subBytes(stateMatrix)\n",
    "\n",
    "        # Rotate rows to the left\n",
    "        stateMatrix = shiftRows(stateMatrix)\n",
    "\n",
    "        # Mix columns using linear transformation\n",
    "        stateMatrix = mixColumns(stateMatrix)\n",
    "\n",
    "        # XOR with round key for round i\n",
    "        stateMatrix = addRoundKey(stateMatrix, w, i)\n",
    "    \n",
    "    # Final (10th) round – no MixColumns\n",
    "    stateMatrix = subBytes(stateMatrix)\n",
    "    stateMatrix = shiftRows(stateMatrix)\n",
    "\n",
    "    # Final AddRoundKey\n",
    "    stateMatrix += w[10 * 4: 10 * 4 + 4, :].transpose()\n",
    "\n",
    "    # Encrypted state (ciphertext)\n",
    "    return stateMatrix"
   ]
  },
  {
   "cell_type": "markdown",
   "id": "98024e7c",
   "metadata": {},
   "source": [
    "## Convert string message to hex"
   ]
  },
  {
   "cell_type": "code",
   "execution_count": 359,
   "id": "6bfc92dd",
   "metadata": {},
   "outputs": [
    {
     "name": "stdout",
     "output_type": "stream",
     "text": [
      "['0x41' '0x6c' '0x66' '0x72' '0x65' '0x64']\n"
     ]
    }
   ],
   "source": [
    "def convertStringMessageToHex(message):\n",
    "    hexArray = [hex(byte) for byte in message.encode()]\n",
    "    return np.array(hexArray)\n",
    "\n",
    "print(convertStringMessageToHex(\"Alfred\"))"
   ]
  },
  {
   "cell_type": "markdown",
   "id": "0485cdda",
   "metadata": {},
   "source": [
    "## Convert bitstream to hex"
   ]
  },
  {
   "cell_type": "code",
   "execution_count": 360,
   "id": "ac4ed835",
   "metadata": {},
   "outputs": [
    {
     "data": {
      "text/plain": [
       "['0x80', '0x80']"
      ]
     },
     "execution_count": 360,
     "metadata": {},
     "output_type": "execute_result"
    }
   ],
   "source": [
    "def convertBitArrayToHexArray(bitArray):\n",
    "\n",
    "    # Step 1: Pad the input bit array to make its length a multiple of 8\n",
    "    # This ensures proper grouping into full bytes\n",
    "    # Pad to nearest 8 bits\n",
    "    padding = (8 - len(bitArray) % 8) % 8\n",
    "    bitArray = bitArray + [0] * padding \n",
    "    \n",
    "    # Step 2: Convert every 8 bits into an integer (byte)\n",
    "    # Convert each 8-bit chunk to a byte\n",
    "    bytes_out = []\n",
    "    for i in range(0, len(bitArray), 8):\n",
    "\n",
    "        # Slice 8 bits\n",
    "        byte = bitArray[i : i+8]\n",
    "\n",
    "        # Convert bit string to integer\n",
    "        byte_val = int(''.join(str(b) for b in byte), 2)\n",
    "        bytes_out.append(byte_val)\n",
    "\n",
    "    # 2. Optionally convert to hex\n",
    "    byte_array = bytes_out\n",
    "\n",
    "    # Step 3: Convert the byte values to hexadecimal strings\n",
    "    hex_array = [hex(b) for b in byte_array]\n",
    "\n",
    "    return hex_array\n",
    "\n",
    "\n",
    "# Example usage: converts bit sequence to ['0x80', '0x1']\n",
    "convertBitArrayToHexArray([1,0,0,0,0,0,0,0,1])"
   ]
  },
  {
   "cell_type": "markdown",
   "id": "4e504711",
   "metadata": {},
   "source": [
    "## Convert hexstream to bitstream"
   ]
  },
  {
   "cell_type": "code",
   "execution_count": 361,
   "id": "6e8976f4",
   "metadata": {},
   "outputs": [
    {
     "data": {
      "text/plain": [
       "[1, 0, 0, 0, 0, 0, 0, 0, 1, 0, 0, 0, 0, 0, 0, 0]"
      ]
     },
     "execution_count": 361,
     "metadata": {},
     "output_type": "execute_result"
    }
   ],
   "source": [
    "def convertHexStreamToBitStream(hexArray):\n",
    "    bit_list = []\n",
    "\n",
    "    # Iterate through each byte in the input list\n",
    "    for byte in hexArray:\n",
    "\n",
    "        # Convert the byte to an 8-bit binary string (remove '0b' and pad with zeros)\n",
    "        # Binary string, padded to 8 bits\n",
    "        bits = bin(byte)[2:].zfill(8)  \n",
    "\n",
    "        # Convert the binary string to a list of integers and append to the result\n",
    "        bit_list.extend([int(b) for b in bits])\n",
    "    return bit_list\n",
    "\n",
    "# Example usage: converts [0x80, 0x80] to [1, 0, 0, 0, 0, 0, 0, 0, 1, 0, 0, 0, 0, 0, 0, 0]\n",
    "convertHexStreamToBitStream([0x80, 0x80])"
   ]
  },
  {
   "cell_type": "markdown",
   "id": "ceaeb666",
   "metadata": {},
   "source": [
    "## Counter mode"
   ]
  },
  {
   "cell_type": "code",
   "execution_count": 362,
   "id": "b2175b9a",
   "metadata": {},
   "outputs": [],
   "source": [
    "\n",
    "def counterMode(message, key, nonce):\n",
    "\n",
    "    # Flatten the message to an array of bytes\n",
    "    temp = message.flatten()\n",
    "\n",
    "    # Prepare an empty output array in GF(2^8)\n",
    "    output = Gfield(np.array([], dtype=int))\n",
    "\n",
    "    # Pad the message so its length is a multiple of 16 bytes (AES block size)\n",
    "    if len(temp) % 16 != 0:\n",
    "        temp = np.append(temp, np.zeros(16 - len(temp) % 16, dtype=int))\n",
    "\n",
    "    # Process each 16-byte block of the message\n",
    "    for i in range(len(temp) // 16):\n",
    "\n",
    "        # Convert current nonce to a 16-byte array and reshape as 4×4 state matrix\n",
    "        nonceAsMatrix = Gfield(np.array(list(nonce.to_bytes(16, 'little'))).reshape(4, 4))\n",
    "\n",
    "        # Encrypt the nonce using AES\n",
    "        encrypted = aesEncrypt(nonceAsMatrix, key)\n",
    "\n",
    "        # Extract current plaintext block and reshape into a 4×4 matrix\n",
    "        stateMatrix = temp[i * 16 : (i + 1) * 16].reshape(4, 4)\n",
    "\n",
    "        # XOR the AES-encrypted nonce with the plaintext block (as in CTR mode)\n",
    "        output = np.append(output, (Gfield(encrypted) + Gfield(stateMatrix)).flatten())\n",
    "\n",
    "        # Increment nonce for the next block\n",
    "        nonce += 1\n",
    "\n",
    "    # Remove padding to match original message length\n",
    "    output = output.flatten()\n",
    "    output = output[:len(message)]  \n",
    "    return output\n",
    "\n",
    "\n",
    "\n"
   ]
  },
  {
   "cell_type": "markdown",
   "id": "3e39e13a",
   "metadata": {},
   "source": [
    "## Test"
   ]
  },
  {
   "cell_type": "code",
   "execution_count": 363,
   "id": "01c06173",
   "metadata": {},
   "outputs": [
    {
     "name": "stdout",
     "output_type": "stream",
     "text": [
      "Message: \n",
      " Brian, top marks for not trying\n",
      "                So kind of you to bless us with your effortlessness\n",
      "                We're grateful and so strangely comforted\n",
      "\n",
      "\n",
      "                And I wonder, are you putting us under?\n",
      "                'Cause we can't take our eyes off the t-shirt and ties combination\n",
      "                Well, see you later, innovator\n",
      "\n",
      "                Some want to kiss, some want to kick you\n",
      "                There's not a net you couldn't slip through\n",
      "                Or at least that's the impression I get, 'cause you're smooth and you're wet\n",
      "                And she's not aware yet, but she's yours\n",
      "                She'll be saying, \"Use me, show me the jacuzzi\"\n",
      "                I imagine that it's there on a plate, your high rendezvous rate\n",
      "                Means that you'll never be frightened to make 'em wait for a while\n",
      "\n",
      "                I doubt it's your style not to get\n",
      "                What you set out to acquire, the eyes are on fire\n",
      "                You are the unforecasted storm, oh\n",
      "\n",
      "Cypher Text: \n",
      "��f��@h�+��G�\u001cbP�V5\u000b/�\u0010�A<�\u000bWʀ�]��)9�f\u001b\u0005m�����׿�̟�R\u001b��r[\u001d����D���X��pɕ�ն�\u001e����R~e<�9[M;:m Qz|{J}c+~Tas��/���bG#�41e!\u0012��?��b��y=�.��0�%ܭ��K[\u0002�N�+�\u0006���.ԩ�I\u0017�\u001d+O��\"KKW���\u0016e����c��Q�4���֢Q���<�ă�V\u001d\\�]�m�\n",
      "�6\u001a�d��\u001d�\u0004{\u0018\u000f�\u0002���Prw~�^�3\u000el=��3r)&�@i�X��l�ㄫxЯ�b{�juÔ\u000e�I��J���ٿ�\u0016�Z�R�ψ8z�\t�s7\u0011W�A�|��H������:KE�\u0013�\u0007� �x��\"���wA\u0013\u0019�c���V\u001d�U,TA[����13_q\u0010�iZ�5m�/��\\�\u0006�E�\u0015�8P����\u0013S{(\u0010��&j�A�>�aF�\u0018I7���v��\u001c0�cg��\u0016\u0003��sP6�\n",
      "\n",
      "Decrypted String: \n",
      " Brian, top marks for not trying\n",
      "                So kind of you to bless us with your effortlessness\n",
      "                We're grateful and so strangely comforted\n",
      "\n",
      "\n",
      "                And I wonder, are you putting us under?\n",
      "                'Cause we can't take our eyes off the t-shirt and ties combination\n",
      "                Well, see you later, innovator\n",
      "\n",
      "                Some want to kiss, some want to kick you\n",
      "                There's not a net you couldn't slip through\n",
      "                Or at least that's the impression I get, 'cause you're smooth and you're wet\n",
      "                And she's not aware yet, but she's yours\n",
      "                She'll be saying, \"Use me, show me the jacuzzi\"\n",
      "                I imagine that it's there on a plate, your high rendezvous rate\n",
      "                Means that you'll never be frightened to make 'em wait for a while\n",
      "\n",
      "                I doubt it's your style not to get\n",
      "                What you set out to acquire, the eyes are on fire\n",
      "                You are the unforecasted storm, oh\n"
     ]
    }
   ],
   "source": [
    "def printInHex(stateMatrix):\n",
    "\n",
    "    # Prints the 4×4 state matrix in hexadecimal format for visualization\n",
    "    for row in stateMatrix:\n",
    "        print(\" \".join(f\"{val:02x}\" for val in row))\n",
    "    print(\"\\n\")\n",
    "        \n",
    "def runTest():\n",
    "    # Example plaintext in a 4×4 state matrix format\n",
    "    # stateMatrix = Gfield(np.array([[0x32, 0x88, 0x31, 0xe0],\n",
    "    #                                [0x43, 0x5a, 0x31, 0x37],\n",
    "    #                                [0xf6, 0x30, 0x98, 0x07],\n",
    "    #                                [0xa8, 0x8d, 0xa2, 0x34]]))\n",
    "    \n",
    "    stateMatrix = Gfield(np.array([[0x41, 0x6c, 0x66, 0x62],\n",
    "                                   [0x65, 0x64, 0x00, 0x00],\n",
    "                                   [0x00, 0x00, 0x00, 0x00],\n",
    "                                   [0x00, 0x00, 0x00, 0x00]]))\n",
    "    \n",
    "    # AES-128 key (16 bytes)\n",
    "    testKey = Gfield(np.array([0x2b, 0x7e, 0x15, 0x16, 0x28, 0xae, 0xd2, 0xa6, 0xab, 0xf7, 0x15, 0x88, 0x09, 0xcf, 0x4f, 0x3c]))\n",
    "\n",
    "    # Encrypt using AES\n",
    "    encrypted = aesEncrypt(stateMatrix, testKey)\n",
    "\n",
    "    # Display original and encrypted matrices\n",
    "    printInHex(stateMatrix)\n",
    "    printInHex(encrypted)\n",
    "\n",
    "def runCounterModeTest():\n",
    "    message =\"\"\"Brian, top marks for not trying\n",
    "                So kind of you to bless us with your effortlessness\n",
    "                We're grateful and so strangely comforted\n",
    "\n",
    "\n",
    "                And I wonder, are you putting us under?\n",
    "                'Cause we can't take our eyes off the t-shirt and ties combination\n",
    "                Well, see you later, innovator\n",
    "\n",
    "                Some want to kiss, some want to kick you\n",
    "                There's not a net you couldn't slip through\n",
    "                Or at least that's the impression I get, 'cause you're smooth and you're wet\n",
    "                And she's not aware yet, but she's yours\n",
    "                She'll be saying, \"Use me, show me the jacuzzi\"\n",
    "                I imagine that it's there on a plate, your high rendezvous rate\n",
    "                Means that you'll never be frightened to make 'em wait for a while\n",
    "\n",
    "                I doubt it's your style not to get\n",
    "                What you set out to acquire, the eyes are on fire\n",
    "                You are the unforecasted storm, oh\"\"\"\n",
    "    print(\"Message: \\n\", message) \n",
    "    print()\n",
    "\n",
    "    # AES-128 test key\n",
    "    testKey = Gfield(np.array([0x2b, 0x7e, 0x15, 0x16, 0x28, 0xae, 0xd2, 0xa6, 0xab, 0xf7, 0x15, 0x88, 0x09, 0xcf, 0x4f, 0x3c]))\n",
    "\n",
    "    # Convert message to byte array (as integers)\n",
    "    messageAsInt = np.array([byte for byte in message.encode(\"utf-8\")])\n",
    "\n",
    "    # Encrypt using CTR mode (encryption and decryption are symmetric in CTR)\n",
    "    cypherText = counterMode(messageAsInt, testKey, 1)\n",
    "\n",
    "    # Convert ciphertext to UTF-8-safe printable string\n",
    "    cypherTextBytes = bytes([int(x) for x in cypherText])\n",
    "    cypherTextString = cypherTextBytes.decode('utf-8', errors='replace')\n",
    "    print(\"Cypher Text: \\n\", cypherTextString)\n",
    "    print()\n",
    "\n",
    "    # Decrypt (re-encrypt with same key and nonce)\n",
    "    decryptedText = counterMode(cypherText, testKey, 1)   \n",
    "\n",
    "    decrypted_bytes = bytes([int(x) for x in decryptedText])\n",
    "    decrypted_str = decrypted_bytes.decode('utf-8', errors='replace')\n",
    "    print(\"Decrypted String: \\n\", decrypted_str)\n",
    "  \n",
    "    \n",
    "# runTest()\n",
    "runCounterModeTest()"
   ]
  },
  {
   "cell_type": "markdown",
   "id": "1ad4b933",
   "metadata": {},
   "source": [
    "## Image to greyscale bytes"
   ]
  },
  {
   "cell_type": "code",
   "execution_count": 364,
   "id": "4162930c",
   "metadata": {},
   "outputs": [],
   "source": [
    "def byteArrayToGrayscaleImage(byte_array, shape):\n",
    "    \"\"\"\n",
    "    Reconstructs an 8-bit grayscale image from a flat byte array and target shape.\n",
    "\n",
    "    Parameters:\n",
    "        byte_array: 1D NumPy array with values in [0, 255]\n",
    "        shape: tuple (height, width) – e.g. (256, 256)\n",
    "\n",
    "    Returns:\n",
    "        image: 2D NumPy array (dtype=uint8) representing the grayscale image\n",
    "    \"\"\"\n",
    "    expected_size = shape[0] * shape[1]\n",
    "    if len(byte_array) != expected_size:\n",
    "        raise ValueError(f\"Byte count ({len(byte_array)}) does not match expected size {shape}.\")\n",
    "\n",
    "    # Reshape the flat array into 2D image format\n",
    "    image = np.array(byte_array, dtype = np.uint8).reshape(shape)\n",
    "    return image"
   ]
  },
  {
   "cell_type": "markdown",
   "id": "009455fb",
   "metadata": {},
   "source": [
    "## Greyscale bytes to image"
   ]
  },
  {
   "cell_type": "code",
   "execution_count": 365,
   "id": "5df678d7",
   "metadata": {},
   "outputs": [],
   "source": [
    "def grayscaleImageToByteArray(image_path):\n",
    "    \"\"\"\n",
    "    Reads an 8-bit grayscale image and returns a 1D NumPy array of bytes (0–255),\n",
    "    equivalent to np.array([byte for byte in message.encode('utf-8')]).\n",
    "    \"\"\"\n",
    "    # Read the image\n",
    "    # image = iio.imread(image_path)[:,:,0] # For other images than the 10 x 10 grey scale one\n",
    "    image = iio.imread(image_path)\n",
    "\n",
    "    # Check: must be 2D (grayscale)\n",
    "    if image.ndim != 2:\n",
    "        raise ValueError(\"The image must be grayscale (2D).\")\n",
    "\n",
    "    # Ensure 8-bit format\n",
    "    image = image.astype(np.uint8)\n",
    "\n",
    "    # Flatten the image into a 1D byte array\n",
    "    byte_array = np.array(image.flatten(), dtype=np.uint8)\n",
    "\n",
    "    return byte_array"
   ]
  },
  {
   "cell_type": "markdown",
   "id": "14b381a6",
   "metadata": {},
   "source": [
    "## Test of converting image to bytes and encryption of those"
   ]
  },
  {
   "cell_type": "code",
   "execution_count": 366,
   "id": "6152bcec",
   "metadata": {},
   "outputs": [
    {
     "name": "stdout",
     "output_type": "stream",
     "text": [
      "[  0  25  50  75 100 125 150 175 200 225   0  25  50  75 100 125 150 175\n",
      " 200 225   0  25  50  75 100 125 150 175 200 225   0  25  50  75 100 125\n",
      " 150 175 200 225   0  25  50  75 100 125 150 175 200 225   0  25  50  75\n",
      " 100 125 150 175 200 225   0  25  50  75 100 125 150 175 200 225   0  25\n",
      "  50  75 100 125 150 175 200 225   0  25  50  75 100 125 150 175 200 225\n",
      "   0  25  50  75 100 125 150 175 200 225]\n",
      "\n",
      "Length: 100 bytes\n"
     ]
    }
   ],
   "source": [
    "# Convert the image into a flat byte array (1D NumPy array of uint8 values)\n",
    "byte_array = grayscaleImageToByteArray(\"10x10_grayscale.png\") \n",
    "\n",
    "# Print all byte values from the image (flattened)\n",
    "print(byte_array) \n",
    "print()\n",
    "\n",
    "# Print the total number of bytes (i.e., pixels in the grayscale image)\n",
    "print(f\"Length: {len(byte_array)} bytes\")\n"
   ]
  },
  {
   "cell_type": "code",
   "execution_count": 367,
   "id": "3e337dcc",
   "metadata": {},
   "outputs": [
    {
     "data": {
      "image/png": "[encoded data removed]",
      "text/plain": [
       "<Figure size 640x480 with 1 Axes>"
      ]
     },
     "metadata": {},
     "output_type": "display_data"
    }
   ],
   "source": [
    "# Assume known dimensions\n",
    "shape = (10, 10)  # ← Adjust this to match the actual image size!\n",
    "\n",
    "# Original image\n",
    "original_image = byteArrayToGrayscaleImage(byte_array, shape)\n",
    "\n",
    "# Display the image\n",
    "plt.imshow(original_image, cmap='gray')\n",
    "plt.title(\"Original Image\")\n",
    "plt.axis('off')\n",
    "plt.show()\n"
   ]
  },
  {
   "cell_type": "code",
   "execution_count": 368,
   "id": "0a1bd00b",
   "metadata": {},
   "outputs": [
    {
     "name": "stdout",
     "output_type": "stream",
     "text": [
      "Cipher image bytes:\n",
      " [126  75  23 168  61  78  51 154 255 119 173 210 169 214  72  67 137 125\n",
      " 214 204 176  16 209 206 166 209  61  68 243 112 138 212 240 254 163  84\n",
      " 221 207  79   6 254 215 219  93 205  59 123 160   5 141 169 233 150  29\n",
      "  13 196 171  25 248 112 124  62 147  32 173 103 160  15 254  33  22 171\n",
      " 129  74 250 127 163  88 121  33  46 113 176 140 157 254  84 217 147  14\n",
      " 222  35 235  45   2  89 218 166 139  34]\n",
      "\n",
      "Decrypted image bytes:\n",
      " [  0  25  50  75 100 125 150 175 200 225   0  25  50  75 100 125 150 175\n",
      " 200 225   0  25  50  75 100 125 150 175 200 225   0  25  50  75 100 125\n",
      " 150 175 200 225   0  25  50  75 100 125 150 175 200 225   0  25  50  75\n",
      " 100 125 150 175 200 225   0  25  50  75 100 125 150 175 200 225   0  25\n",
      "  50  75 100 125 150 175 200 225   0  25  50  75 100 125 150 175 200 225\n",
      "   0  25  50  75 100 125 150 175 200 225]\n"
     ]
    }
   ],
   "source": [
    "testKey = Gfield(np.array([0x2b, 0x7e, 0x15, 0x16, 0x28, 0xae, 0xd2, 0xa6, 0xab, 0xf7, 0x15, 0x88, 0x09, 0xcf, 0x4f, 0x3c]))\n",
    "\n",
    "# Encrypt the grayscale byte array using AES in CTR mode\n",
    "cypherImageBytes = counterMode(byte_array, testKey, 1)\n",
    "\n",
    "# Print the encrypted byte values\n",
    "print(\"Cipher image bytes:\\n\", cypherImageBytes)\n",
    "print()\n",
    "\n",
    "# Decrypt the image by reapplying AES CTR with the same key and nonce\n",
    "decryptedText = counterMode(cypherImageBytes, testKey, 1)\n",
    "\n",
    "# Print the decrypted byte values (should match the original image)\n",
    "print(\"Decrypted image bytes:\\n\", decryptedText)\n"
   ]
  },
  {
   "cell_type": "markdown",
   "id": "ae4c934c",
   "metadata": {},
   "source": [
    "## Transform bytes into greyscale image"
   ]
  },
  {
   "cell_type": "code",
   "execution_count": 369,
   "id": "3206d058",
   "metadata": {},
   "outputs": [
    {
     "data": {
      "image/png": "[encoded data removed]",
      "text/plain": [
       "<Figure size 1200x600 with 3 Axes>"
      ]
     },
     "metadata": {},
     "output_type": "display_data"
    }
   ],
   "source": [
    "# Assume known image dimensions\n",
    "\n",
    "# Reconstruct images from byte arrays\n",
    "encrypted_image = byteArrayToGrayscaleImage(cypherImageBytes, shape)\n",
    "restored_image = byteArrayToGrayscaleImage(decryptedText, shape)\n",
    "\n",
    "# Plot side by side\n",
    "import matplotlib.pyplot as plt\n",
    "\n",
    "# 1 row, 2 columns\n",
    "fig, ax = plt.subplots(1, 3, figsize=(12, 6))  \n",
    "\n",
    "\n",
    "# Left: original image\n",
    "ax[0].imshow(original_image, cmap = \"gray\")\n",
    "ax[0].set_title(\"Original Image\")\n",
    "ax[0].axis('off')\n",
    "\n",
    "# Middle: encrypted image\n",
    "ax[1].imshow(encrypted_image, cmap='gray')\n",
    "ax[1].set_title(\"Encrypted Image\")\n",
    "ax[1].axis('off')\n",
    "\n",
    "# Right: decrypted (original) image\n",
    "ax[2].imshow(restored_image, cmap='gray')\n",
    "ax[2].set_title(\"Decrypted Image\")\n",
    "ax[2].axis('off')\n",
    "\n",
    "plt.tight_layout()\n",
    "plt.show()"
   ]
  },
  {
   "cell_type": "code",
   "execution_count": 370,
   "id": "8302cc1f",
   "metadata": {},
   "outputs": [
    {
     "data": {
      "text/plain": [
       "(0, 0)"
      ]
     },
     "execution_count": 370,
     "metadata": {},
     "output_type": "execute_result"
    }
   ],
   "source": [
    "(original_image - restored_image).max(), (original_image - restored_image).min()"
   ]
  },
  {
   "cell_type": "markdown",
   "id": "7b6133fb",
   "metadata": {},
   "source": [
    "## AES in GCM"
   ]
  },
  {
   "cell_type": "code",
   "execution_count": null,
   "id": "62c562ca",
   "metadata": {},
   "outputs": [],
   "source": [
    "def gcmEncryptOnly(plaintext, key, nonce):\n",
    "    \"\"\"\n",
    "    Encrypts the plaintext using AES in CTR mode.\n",
    "    Constructs a 16-byte counter block from the 12-byte nonce with a fixed suffix (0x00000001),\n",
    "    as required by GCM, and passes it to the counter mode function.\n",
    "    \"\"\"\n",
    "    counter = int.from_bytes(nonce.to_bytes(12, 'big') + b'\\x00\\x00\\x00\\x01', 'big')\n",
    "    return counterMode(plaintext, key, counter)\n",
    "\n",
    "\n",
    "def gcmGHASH(H, A, C):\n",
    "    \"\"\"\n",
    "    GHASH function for GCM authentication.\n",
    "    Computes a hash over AAD (A) and ciphertext (C) using a hash subkey H.\n",
    "\n",
    "    Inputs:\n",
    "        H – the GHASH subkey (128-bit)\n",
    "        A – Additional Authenticated Data (bytes)\n",
    "        C – Ciphertext (bytes)\n",
    "\n",
    "    Output:\n",
    "        A 128-bit authentication value as a list of 16 integers (0–255).\n",
    "    \"\"\"\n",
    "\n",
    "    # Block-wise XOR helper\n",
    "    def xor_blocks(a, b):\n",
    "        return [x ^ y for x, y in zip(a, b)]\n",
    "\n",
    "    # Pad input to multiple of 128 bits (16 bytes)\n",
    "    def pad128(arr):\n",
    "        return arr + [0] * ((16 - len(arr) % 16) % 16)\n",
    "\n",
    "    # Multiplication in GF(2^128) per NIST standard\n",
    "    def multiply(x, y):\n",
    "        R = 0xe1000000000000000000000000000000  # The irreducible polynomial\n",
    "        x = int.from_bytes(x, 'big')\n",
    "        y = int.from_bytes(y, 'big')\n",
    "        z = 0\n",
    "        for i in range(128):\n",
    "            if (y >> (127 - i)) & 1:\n",
    "                z ^= x\n",
    "            if x & 1:\n",
    "                x = (x >> 1) ^ R\n",
    "            else:\n",
    "                x >>= 1\n",
    "        return list(z.to_bytes(16, 'big'))\n",
    "\n",
    "    # Step 1: Pad AAD and ciphertext\n",
    "    A_padded = pad128(list(A))\n",
    "    C_padded = pad128(list(C))\n",
    "\n",
    "    # Step 2: Append a final block encoding bit-lengths of A and C (each as 64-bit big-endian)\n",
    "    length_block = (len(A) * 8).to_bytes(8, 'big') + (len(C) * 8).to_bytes(8, 'big')\n",
    "\n",
    "    # Step 3: Construct list of blocks to process\n",
    "    blocks = (\n",
    "        [A_padded[i:i+16] for i in range(0, len(A_padded), 16)] +\n",
    "        [C_padded[i:i+16] for i in range(0, len(C_padded), 16)] +\n",
    "        [list(length_block)]\n",
    "    )\n",
    "\n",
    "    # Step 4: GHASH accumulation\n",
    "    X = [0] * 16  # Initial value is zero block\n",
    "    for block in blocks:\n",
    "        X = multiply(xor_blocks(X, block), H)\n",
    "\n",
    "    return X\n",
    "\n",
    "\n",
    "def gcmComputeTag(ciphertext, aad, key, nonce):\n",
    "    \"\"\"\n",
    "    Computes the AES-GCM authentication tag from the ciphertext and AAD.\n",
    "\n",
    "    Steps:\n",
    "    1. Derive GHASH subkey H = AES_k(0^128)\n",
    "    2. Compute GHASH over (AAD, ciphertext)\n",
    "    3. Encrypt initial counter block to get S\n",
    "    4. Tag = GHASH_result XOR S\n",
    "    \"\"\"\n",
    "\n",
    "    # 0^128\n",
    "    zero_block = Gfield(np.zeros((4, 4), dtype=int))  \n",
    "\n",
    "    # Step 1\n",
    "    H = aesEncrypt(zero_block, key).flatten()   \n",
    "\n",
    "    # Step 2      \n",
    "    ghash_output = gcmGHASH(H, aad, ciphertext)       \n",
    "\n",
    "    # Step 3: Encrypt the initial counter block to produce S\n",
    "    counter = int.from_bytes(nonce.to_bytes(12, 'big') + b'\\x00\\x00\\x00\\x01', 'big')\n",
    "    init_block = Gfield(np.array(list(counter.to_bytes(16, 'big'))).reshape(4, 4))\n",
    "    S = aesEncrypt(init_block, key).flatten()\n",
    "\n",
    "    # Step 4: Final tag = GHASH ⊕ S\n",
    "    return np.array(ghash_output) ^ S\n",
    "\n",
    "\n",
    "def gcmEncrypt(plaintext, key, nonce, aad):\n",
    "    \"\"\"\n",
    "    Main GCM function: encrypt and authenticate.\n",
    "    Returns (ciphertext, authentication_tag)\n",
    "    \"\"\"\n",
    "    ciphertext = gcmEncryptOnly(plaintext, key, nonce)\n",
    "    tag = gcmComputeTag(ciphertext, aad, key, nonce)\n",
    "    return ciphertext, tag\n"
   ]
  },
  {
   "cell_type": "markdown",
   "id": "3f38d069",
   "metadata": {},
   "source": [
    "## Test of AES in GCM"
   ]
  },
  {
   "cell_type": "code",
   "execution_count": 372,
   "id": "628e93ef",
   "metadata": {},
   "outputs": [
    {
     "name": "stdout",
     "output_type": "stream",
     "text": [
      "Original Message:\n",
      " Hello \n",
      "\n",
      "Ciphertext (hex): \n",
      " ea1840a134\n",
      "\n",
      "Authentication Tag: fa000000000000009200000000000000ab00000000000000e1000000000000003400000000000000f000000000000000d3000000000000009d000000000000002f000000000000004300000000000000dc000000000000002000000000000000aa000000000000003600000000000000d6000000000000002e00000000000000 \n",
      "\n",
      "✅ Tag valid. Message is authentic.\n",
      "\n",
      "Decrypted Bytes (hex):\n",
      " 48656c6c6f\n",
      "\n",
      "Decrypted Message:\n",
      " Hello\n",
      "\n",
      "--- Tampering with ciphertext ---\n",
      "✅ Tampering detected: tag mismatch.\n"
     ]
    }
   ],
   "source": [
    "def testGCM():\n",
    "    # --- Inputs ---\n",
    "    plaintext = \"Hello\"\n",
    "    aad = \"authenticated-but-not-encrypted-header\"  # Additional Authenticated Data (not encrypted)\n",
    "\n",
    "    print(\"Original Message:\\n\", plaintext, \"\\n\")\n",
    "\n",
    "    # --- AES-128 Key (16 bytes / 128 bits) ---\n",
    "    key = Gfield(np.array([\n",
    "        0x2b, 0x7e, 0x15, 0x16,\n",
    "        0x28, 0xae, 0xd2, 0xa6,\n",
    "        0xab, 0xf7, 0x15, 0x88,\n",
    "        0x09, 0xcf, 0x4f, 0x3c\n",
    "    ]))\n",
    "\n",
    "    # --- 12-byte (96-bit) nonce, recommended for GCM ---\n",
    "    nonce_bytes = b'\\x00\\x01\\x02\\x03\\x04\\x05\\x06\\x07\\x08\\x09\\x0a\\x0b'\n",
    "    nonce = int.from_bytes(nonce_bytes, 'big')  # Convert to integer for counter expansion\n",
    "\n",
    "    # --- Encode plaintext and AAD to byte arrays ---\n",
    "    msg_array = np.frombuffer(plaintext.encode('utf-8'), dtype=np.uint8)\n",
    "    aad_array = np.frombuffer(aad.encode('utf-8'), dtype=np.uint8)\n",
    "\n",
    "    # --- Encryption (AES-CTR mode + authentication tag) ---\n",
    "    ciphertext, tag = gcmEncrypt(msg_array, key, nonce, aad_array)\n",
    "\n",
    "    print(\"Ciphertext (hex): \\n\", bytes(ciphertext).hex())\n",
    "    print()\n",
    "    print(\"Authentication Tag:\", bytes(tag).hex(), \"\\n\")\n",
    "\n",
    "    # --- Recompute tag to verify authenticity (before decryption) ---\n",
    "    recomputed_tag = gcmComputeTag(ciphertext, aad_array, key, nonce)\n",
    "    if not np.array_equal(tag, recomputed_tag):\n",
    "        print(\"❌ Tag mismatch! Ciphertext may have been tampered with.\")\n",
    "        return\n",
    "\n",
    "    print(\"✅ Tag valid. Message is authentic.\")\n",
    "\n",
    "    # --- Decryption: AES-CTR is symmetric, uses same counter as encryption ---\n",
    "    counter = int.from_bytes(nonce_bytes + b'\\x00\\x00\\x00\\x01', 'big')  # GCM counter start value\n",
    "    decrypted = counterMode(ciphertext, key, counter)\n",
    "\n",
    "    # Convert to bytes for decoding (guarantees clean byte-wise structure)\n",
    "    decrypted_bytes = np.array(decrypted, dtype=np.uint8).tobytes()\n",
    "\n",
    "    # --- Output raw bytes for debugging ---\n",
    "    print(\"\\nDecrypted Bytes (hex):\\n\", decrypted_bytes.hex())\n",
    "\n",
    "    # --- Attempt to decode the decrypted bytes as UTF-8 (only after tag validation) ---\n",
    "    try:\n",
    "        decrypted_str = decrypted_bytes.decode('utf-8')\n",
    "        print(\"\\nDecrypted Message:\\n\", decrypted_str)\n",
    "    except UnicodeDecodeError as e:\n",
    "        print(\"\\n❌ Decryption output is not valid UTF-8.\")\n",
    "        print(\"Error:\", e)\n",
    "\n",
    "    # --- Tampering Test: simulate bit-flip attack in ciphertext ---\n",
    "    print(\"\\n--- Tampering with ciphertext ---\")\n",
    "    tampered = ciphertext.copy()\n",
    "    tampered[1] ^= 0xFF  # Flip one bit\n",
    "\n",
    "    # Recompute tag for tampered ciphertext\n",
    "    tampered_tag = gcmComputeTag(tampered, aad_array, key, nonce)\n",
    "    if np.array_equal(tag, tampered_tag):\n",
    "        print(\"❌ Tag unexpectedly valid after tampering!\")\n",
    "    else:\n",
    "        print(\"✅ Tampering detected: tag mismatch.\")\n",
    "\n",
    "# Run the test\n",
    "testGCM()\n"
   ]
  }
 ],
 "metadata": {
  "kernelspec": {
   "display_name": "34220Ex",
   "language": "python",
   "name": "python3"
  },
  "language_info": {
   "codemirror_mode": {
    "name": "ipython",
    "version": 3
   },
   "file_extension": ".py",
   "mimetype": "text/x-python",
   "name": "python",
   "nbconvert_exporter": "python",
   "pygments_lexer": "ipython3",
   "version": "3.12.2"
  }
 },
 "nbformat": 4,
 "nbformat_minor": 5
}
