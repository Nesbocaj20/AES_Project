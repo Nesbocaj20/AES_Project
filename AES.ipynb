{
 "cells": [
  {
   "cell_type": "code",
   "execution_count": 3,
   "id": "d1d63130",
   "metadata": {},
   "outputs": [],
   "source": [
    "import numpy as np\n",
    "import galois\n",
    "GF2 = galois.GF(2)\n",
    "irreducible_poly = galois.Poly([1,0,0,0,1,1,0,1,1], field = GF2)\n",
    "Gfield = galois.GF(2**8, irreducible_poly=irreducible_poly)"
   ]
  },
  {
   "cell_type": "markdown",
   "id": "577eae36",
   "metadata": {},
   "source": [
    "## Shift rows"
   ]
  },
  {
   "cell_type": "code",
   "execution_count": 4,
   "id": "1d1e496f",
   "metadata": {},
   "outputs": [],
   "source": [
    "def shiftRows(stateMatrix):\n",
    "    return Gfield(np.array([np.roll(row, shift = -i) for i, row in enumerate(stateMatrix)]))"
   ]
  },
  {
   "cell_type": "markdown",
   "id": "ed8bebbf",
   "metadata": {},
   "source": [
    "## Add round key"
   ]
  },
  {
   "cell_type": "code",
   "execution_count": 5,
   "id": "6d8ab8ea",
   "metadata": {},
   "outputs": [],
   "source": [
    "def addRoundKey(stateMatrix, w, i):\n",
    "    return stateMatrix + w[i * 4: i*4 + 4, :].transpose()"
   ]
  },
  {
   "cell_type": "markdown",
   "id": "a7a0abc8",
   "metadata": {},
   "source": [
    "## Mix columns"
   ]
  },
  {
   "cell_type": "code",
   "execution_count": 6,
   "id": "a8d85296",
   "metadata": {},
   "outputs": [],
   "source": [
    "\n",
    "def mixColumns(stateMatrix):\n",
    "    A = Gfield(np.array([[0x02, 0x03, 0x01, 0x01],\n",
    "                         [0x01, 0x02, 0x03, 0x01],\n",
    "                         [0x01, 0x01, 0x02, 0x03],\n",
    "                         [0x03, 0x01, 0x01, 0x02]]))\n",
    "    return A @ stateMatrix"
   ]
  },
  {
   "cell_type": "markdown",
   "id": "d289fa52",
   "metadata": {},
   "source": [
    "## Sub bytes"
   ]
  },
  {
   "cell_type": "code",
   "execution_count": 7,
   "id": "b8d9a1f4",
   "metadata": {},
   "outputs": [],
   "source": [
    "def getIndexFromHex(input):\n",
    "    return (input & 0xF0) >> 4, input & 0xF\n",
    "\n",
    "sbox = np.array([\n",
    "                [0x63, 0x7C, 0x77, 0x7B, 0xF2, 0x6B, 0x6F, 0xC5, 0x30, 0x01, 0x67, 0x2B, 0xFE, 0xD7, 0xAB, 0x76],\n",
    "                [0xCA, 0x82, 0xC9, 0x7D, 0xFA, 0x59, 0x47, 0xF0, 0xAD, 0xD4, 0xA2, 0xAF, 0x9C, 0xA4, 0x72, 0xC0],\n",
    "                [0xB7, 0xFD, 0x93, 0x26, 0x36, 0x3F, 0xF7, 0xCC, 0x34, 0xA5, 0xE5, 0xF1, 0x71, 0xD8, 0x31, 0x15],\n",
    "                [0x04, 0xC7, 0x23, 0xC3, 0x18, 0x96, 0x05, 0x9A, 0x07, 0x12, 0x80, 0xE2, 0xEB, 0x27, 0xB2, 0x75],\n",
    "                [0x09, 0x83, 0x2C, 0x1A, 0x1B, 0x6E, 0x5A, 0xA0, 0x52, 0x3B, 0xD6, 0xB3, 0x29, 0xE3, 0x2F, 0x84],\n",
    "                [0x53, 0xD1, 0x00, 0xED, 0x20, 0xFC, 0xB1, 0x5B, 0x6A, 0xCB, 0xBE, 0x39, 0x4A, 0x4C, 0x58, 0xCF],\n",
    "                [0xD0, 0xEF, 0xAA, 0xFB, 0x43, 0x4D, 0x33, 0x85, 0x45, 0xF9, 0x02, 0x7F, 0x50, 0x3C, 0x9F, 0xA8],\n",
    "                [0x51, 0xA3, 0x40, 0x8F, 0x92, 0x9D, 0x38, 0xF5, 0xBC, 0xB6, 0xDA, 0x21, 0x10, 0xFF, 0xF3, 0xD2],\n",
    "                [0xCD, 0x0C, 0x13, 0xEC, 0x5F, 0x97, 0x44, 0x17, 0xC4, 0xA7, 0x7E, 0x3D, 0x64, 0x5D, 0x19, 0x73],\n",
    "                [0x60, 0x81, 0x4F, 0xDC, 0x22, 0x2A, 0x90, 0x88, 0x46, 0xEE, 0xB8, 0x14, 0xDE, 0x5E, 0x0B, 0xDB],\n",
    "                [0xE0, 0x32, 0x3A, 0x0A, 0x49, 0x06, 0x24, 0x5C, 0xC2, 0xD3, 0xAC, 0x62, 0x91, 0x95, 0xE4, 0x79],\n",
    "                [0xE7, 0xC8, 0x37, 0x6D, 0x8D, 0xD5, 0x4E, 0xA9, 0x6C, 0x56, 0xF4, 0xEA, 0x65, 0x7A, 0xAE, 0x08],\n",
    "                [0xBA, 0x78, 0x25, 0x2E, 0x1C, 0xA6, 0xB4, 0xC6, 0xE8, 0xDD, 0x74, 0x1F, 0x4B, 0xBD, 0x8B, 0x8A],\n",
    "                [0x70, 0x3E, 0xB5, 0x66, 0x48, 0x03, 0xF6, 0x0E, 0x61, 0x35, 0x57, 0xB9, 0x86, 0xC1, 0x1D, 0x9E],\n",
    "                [0xE1, 0xF8, 0x98, 0x11, 0x69, 0xD9, 0x8E, 0x94, 0x9B, 0x1E, 0x87, 0xE9, 0xCE, 0x55, 0x28, 0xDF],\n",
    "                [0x8C, 0xA1, 0x89, 0x0D, 0xBF, 0xE6, 0x42, 0x68, 0x41, 0x99, 0x2D, 0x0F, 0xB0, 0x54, 0xBB, 0x16],\n",
    "                ])\n",
    "\n",
    "def subBytes(stateMatrix):\n",
    "    for i in range(np.shape(stateMatrix)[0]):\n",
    "        for j in range(np.shape(stateMatrix)[1]):\n",
    "            x, y = getIndexFromHex(stateMatrix[i, j])\n",
    "            stateMatrix[i, j] = sbox[x, y]\n",
    "    return stateMatrix"
   ]
  },
  {
   "cell_type": "markdown",
   "id": "a222a8ea",
   "metadata": {},
   "source": [
    "ref: https://gist.github.com/bonsaiviking/5571001"
   ]
  },
  {
   "cell_type": "markdown",
   "id": "3548e46f",
   "metadata": {},
   "source": [
    "## Key expansion"
   ]
  },
  {
   "cell_type": "code",
   "execution_count": 8,
   "id": "865ca5df",
   "metadata": {},
   "outputs": [],
   "source": [
    "def keyExpansion(key): \n",
    "    Nk = 4   #number of columns in state\n",
    "    Nb = 4   #number of 32 bit words in cipher key\n",
    "    Nr = 10  #number of rounds\n",
    "    \n",
    "    w = np.zeros((44, 4), dtype = int)\n",
    "    \n",
    "    w[:Nk, :] = key.reshape(4,4)\n",
    "    \n",
    "    i = Nk\n",
    "    while i < Nb * (Nr + 1):\n",
    "        temp = Gfield(w[i - 1,:])\n",
    "        \n",
    "        if i % Nk == 0:\n",
    "            afterRotWord = np.roll(temp, -1)\n",
    "            afterSubWord = subWord(afterRotWord)\n",
    "            temp = Gfield(afterSubWord) + Gfield(roundConstant(i//Nk))\n",
    "        w[i, :] = Gfield(w[i - Nk,:]) + temp\n",
    "        i += 1\n",
    "    return w\n",
    "\n",
    "def roundConstant(i):\n",
    "    if i == 1:\n",
    "        return Gfield(np.array([0x01, 0x0, 0x0, 0x0]))\n",
    "    array = Gfield(np.array([0x02, 0x0, 0x0, 0x0]))\n",
    "    return array**(i-1)\n",
    "\n",
    "def subWord(vector):\n",
    "    for i in range(np.shape(vector)[0]):\n",
    "        x, y = getIndexFromHex(vector[i])\n",
    "        vector[i] = sbox[x, y]\n",
    "    return vector"
   ]
  },
  {
   "cell_type": "markdown",
   "id": "6f59b1ac",
   "metadata": {},
   "source": [
    "## AES Encrypt"
   ]
  },
  {
   "cell_type": "code",
   "execution_count": 9,
   "id": "8f834ab1",
   "metadata": {},
   "outputs": [],
   "source": [
    "def aesEncrypt(stateMatrix, key):\n",
    "    w = Gfield(keyExpansion(key))\n",
    "    stateMatrix = stateMatrix + w[:4,:4].transpose()    \n",
    "    \n",
    "    for i in range(1, 10):\n",
    "        stateMatrix = subBytes(stateMatrix)\n",
    "        stateMatrix = shiftRows(stateMatrix)\n",
    "        stateMatrix = mixColumns(stateMatrix)\n",
    "        stateMatrix = addRoundKey(stateMatrix, w, i)\n",
    "        \n",
    "    stateMatrix = subBytes(stateMatrix)\n",
    "    stateMatrix = shiftRows(stateMatrix)\n",
    "    stateMatrix += w[10 * 4: 10 * 4 + 4, :].transpose()\n",
    "    return stateMatrix"
   ]
  },
  {
   "cell_type": "markdown",
   "id": "98024e7c",
   "metadata": {},
   "source": [
    "## Convert string message to hex"
   ]
  },
  {
   "cell_type": "code",
   "execution_count": 24,
   "id": "6bfc92dd",
   "metadata": {},
   "outputs": [
    {
     "name": "stdout",
     "output_type": "stream",
     "text": [
      "['0x41' '0x6c' '0x66' '0x72' '0x65' '0x64']\n"
     ]
    }
   ],
   "source": [
    "def convertStringMessageToHex(message):\n",
    "    hexArray = [hex(byte) for byte in message.encode()]\n",
    "    return np.array(hexArray)\n",
    "\n",
    "print(convertStringMessageToHex(\"Alfred\"))"
   ]
  },
  {
   "cell_type": "markdown",
   "id": "0485cdda",
   "metadata": {},
   "source": [
    "## Convert bitstream to hex"
   ]
  },
  {
   "cell_type": "code",
   "execution_count": null,
   "id": "ac4ed835",
   "metadata": {},
   "outputs": [
    {
     "data": {
      "text/plain": [
       "['0x80', '0x80']"
      ]
     },
     "execution_count": 39,
     "metadata": {},
     "output_type": "execute_result"
    }
   ],
   "source": [
    "def convertBitArrayToHexArray(bitArray):\n",
    "    # Pad to nearest 8 bits\n",
    "    padding = (8 - len(bitArray) % 8) % 8\n",
    "    bitArray = bitArray + [0] * padding \n",
    "    \n",
    "    # Convert each 8-bit chunk to a byte\n",
    "    bytes_out = []\n",
    "    for i in range(0, len(bitArray), 8):\n",
    "        byte = bitArray[i : i+8]\n",
    "        byte_val = int(''.join(str(b) for b in byte), 2)\n",
    "        bytes_out.append(byte_val)\n",
    "\n",
    "    # 2. Optionally convert to hex\n",
    "    byte_array = bytes_out\n",
    "    hex_array = [hex(b) for b in byte_array]\n",
    "    return hex_array\n",
    "\n",
    "convertBitArrayToHexArray([1,0,0,0,0,0,0,0,1])"
   ]
  },
  {
   "cell_type": "markdown",
   "id": "4e504711",
   "metadata": {},
   "source": [
    "## Convert hexstream to bitstream"
   ]
  },
  {
   "cell_type": "code",
   "execution_count": 41,
   "id": "b2175b9a",
   "metadata": {},
   "outputs": [
    {
     "name": "stdout",
     "output_type": "stream",
     "text": [
      "State Matrix:  [[ 43  40 171   9]\n",
      " [ 43  40 171   9]\n",
      " [ 43  40 171   9]\n",
      " [ 43  40 171   9]]\n",
      "State Matrix:  [[ 43  40 171   9]\n",
      " [ 43  40 171   9]\n",
      " [ 43  40 171   9]\n",
      " [ 43  40 171   9]]\n",
      "State Matrix:  [[43  0  0  0]\n",
      " [ 0  0  0  0]\n",
      " [ 0  0  0  0]\n",
      " [ 0  0  0  0]]\n"
     ]
    },
    {
     "data": {
      "text/plain": [
       "GF([ 85, 122, 142, 234, 114,  27,  14,  60,  28, 190,   6, 194, 176, 181,\n",
       "    135,  55,  52, 250, 181,  36, 155,  33,  72, 140, 233, 132,   0, 226,\n",
       "     16, 185,  33, 196, 233, 181, 199,  41,  75,  96, 135, 231, 254, 206,\n",
       "    233,  22, 169,  70, 237,  15], order=2^8)"
      ]
     },
     "execution_count": 40,
     "metadata": {},
     "output_type": "execute_result"
    }
   ],
   "source": [
    "\n",
    "def counterMode(message, key, nonce):\n",
    "    message = message.flatten()\n",
    "\n",
    "    if len(message) % 16 != 0:\n",
    "        message = np.append(message, np.zeros(16 - len(message) % 16, dtype=int))\n",
    "\n",
    "    output = Gfield(np.array([], dtype=int))\n",
    "    for i in range(int(np.ceil(len(message) / 16))):\n",
    "        nonceAsMatrix = Gfield(np.array(list(nonce.to_bytes(16, 'little'))).reshape(4, 4))\n",
    "        encrypted = aesEncrypt(nonceAsMatrix, key)\n",
    "\n",
    "        stateMatrix = message[i * 16 : (i + 1) * 16].reshape(4, 4)\n",
    "        print(\"State Matrix: \", stateMatrix)\n",
    "        output = np.append(output, (Gfield(encrypted) + Gfield(stateMatrix)).flatten())\n",
    "        nonce += 1\n",
    "\n",
    "    return output.flatten()\n",
    "    #Make nonce\n",
    "    #encrypt nonce with key\n",
    "    #XOR with message slice\n",
    "    #Make sure to work for arbitrary length messages\n",
    "\n",
    "message2 = np.array([0x2b, 0x28, 0xab, 0x09, 0x2b, 0x28, 0xab, 0x09, 0x2b, 0x28, 0xab, 0x09, 0x2b, 0x28, 0xab, 0x09, 0x2b, 0x28, 0xab, 0x09, 0x2b, 0x28, 0xab, 0x09, 0x2b, 0x28, 0xab, 0x09, 0x2b, 0x28, 0xab, 0x09, 0x2b])\n",
    "\n",
    "testKey = Gfield(np.array([0x2b, 0x7e, 0x15, 0x16, 0x28, 0xae, 0xd2, 0xa6, 0xab, 0xf7, 0x15, 0x88, 0x09, 0xcf, 0x4f, 0x3c]))\n",
    "\n",
    "counterMode(message2, testKey, 1)"
   ]
  },
  {
   "cell_type": "markdown",
   "id": "0dd0ace4",
   "metadata": {},
   "source": []
  },
  {
   "cell_type": "code",
   "execution_count": 38,
   "id": "733c38ff",
   "metadata": {},
   "outputs": [
    {
     "data": {
      "text/plain": [
       "1"
      ]
     },
     "execution_count": 38,
     "metadata": {},
     "output_type": "execute_result"
    }
   ],
   "source": [
    "message = np.array([[0x32, 0x88, 0x31, 0xe0],\n",
    "          [0x43, 0x5a, 0x31, 0x37]])\n",
    "\n",
    "message2 = np.array([0x2b, 0x28, 0xab, 0x09, 0x2b, 0x28, 0xab, 0x09, 0x2b, 0x28, 0xab, 0x09, 0x2b, 0x28, 0xab, 0x09, 0x2b, 0x28, 0xab, 0x09, 0x2b, 0x28, 0xab, 0x09, 0x2b, 0x28, 0xab, 0x09, 0x2b, 0x28, 0xab, 0x09, 0x2b])\n",
    "\n",
    "message2 = message2.flatten()\n",
    "\n",
    "len(message2) % 16\n"
   ]
  },
  {
   "cell_type": "code",
   "execution_count": 27,
   "id": "e666dadc",
   "metadata": {},
   "outputs": [
    {
     "data": {
      "text/plain": [
       "array([[1, 0, 0, 0],\n",
       "       [0, 0, 0, 0],\n",
       "       [0, 0, 0, 0],\n",
       "       [0, 0, 0, 0]])"
      ]
     },
     "execution_count": 27,
     "metadata": {},
     "output_type": "execute_result"
    }
   ],
   "source": [
    "test = 1\n",
    "inBytes = np.array(list(test.to_bytes(16, 'little')))\n",
    "(inBytes.reshape(4,4))"
   ]
  },
  {
   "cell_type": "markdown",
   "id": "3e39e13a",
   "metadata": {},
   "source": [
    "## Test"
   ]
  },
  {
   "cell_type": "code",
   "execution_count": null,
   "id": "01c06173",
   "metadata": {},
   "outputs": [
    {
     "name": "stdout",
     "output_type": "stream",
     "text": [
      "41 6c 66 62\n",
      "65 64 00 00\n",
      "00 00 00 00\n",
      "00 00 00 00\n",
      "\n",
      "\n",
      "06 04 f5 3c\n",
      "77 b3 4d d2\n",
      "50 55 96 e1\n",
      "8d 71 9a 24\n",
      "\n",
      "\n"
     ]
    }
   ],
   "source": [
    "def printInHex(stateMatrix):\n",
    "    for row in stateMatrix:\n",
    "        print(\" \".join(f\"{val:02x}\" for val in row))\n",
    "    print(\"\\n\")\n",
    "        \n",
    "def runTest():\n",
    "    # stateMatrix = Gfield(np.array([[0x32, 0x88, 0x31, 0xe0],\n",
    "    #                                [0x43, 0x5a, 0x31, 0x37],\n",
    "    #                                [0xf6, 0x30, 0x98, 0x07],\n",
    "    #                                [0xa8, 0x8d, 0xa2, 0x34]]))\n",
    "    \n",
    "    stateMatrix = Gfield(np.array([[0x41, 0x6c, 0x66, 0x62],\n",
    "                                   [0x65, 0x64, 0x00, 0x00],\n",
    "                                   [0x00, 0x00, 0x00, 0x00],\n",
    "                                   [0x00, 0x00, 0x00, 0x00]]))\n",
    "    \n",
    "    testKey = Gfield(np.array([0x2b, 0x7e, 0x15, 0x16, 0x28, 0xae, 0xd2, 0xa6, 0xab, 0xf7, 0x15, 0x88, 0x09, 0xcf, 0x4f, 0x3c]))\n",
    "    encrypted = aesEncrypt(stateMatrix, testKey)\n",
    "    printInHex(stateMatrix)\n",
    "    printInHex(encrypted)\n",
    "    \n",
    "runTest()"
   ]
  }
 ],
 "metadata": {
  "kernelspec": {
   "display_name": "34220Ex",
   "language": "python",
   "name": "python3"
  },
  "language_info": {
   "codemirror_mode": {
    "name": "ipython",
    "version": 3
   },
   "file_extension": ".py",
   "mimetype": "text/x-python",
   "name": "python",
   "nbconvert_exporter": "python",
   "pygments_lexer": "ipython3",
   "version": "3.11.6"
  }
 },
 "nbformat": 4,
 "nbformat_minor": 5
}
