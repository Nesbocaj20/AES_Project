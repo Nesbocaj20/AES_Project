{
 "cells": [
  {
   "cell_type": "code",
   "execution_count": 4,
   "id": "d1d63130",
   "metadata": {},
   "outputs": [],
   "source": [
    "import numpy as np\n",
    "import galois\n",
    "import imageio.v3 as iio\n",
    "import matplotlib.pyplot as plt\n",
    "# import hmac\n",
    "# import hashlib\n",
    "\n",
    "# Define the binary field GF(2)\n",
    "GF2 = galois.GF(2)\n",
    "\n",
    "# Define the irreducible polynomial used to construct GF(2^8)\n",
    "# Polynomial: x^8 + x^4 + x^3 + x + 1 (represented by the binary vector)\n",
    "irreducible_poly = galois.Poly([1,0,0,0,1,1,0,1,1], field = GF2)\n",
    "\n",
    "# Define the extension field GF(2^8) using the given irreducible polynomial\n",
    "Gfield = galois.GF(2**8, irreducible_poly = irreducible_poly)"
   ]
  },
  {
   "cell_type": "markdown",
   "id": "577eae36",
   "metadata": {},
   "source": [
    "## Shift rows"
   ]
  },
  {
   "cell_type": "code",
   "execution_count": 5,
   "id": "1d1e496f",
   "metadata": {},
   "outputs": [],
   "source": [
    "def shiftRows(stateMatrix):\n",
    "\n",
    "    # Applies AES ShiftRows step: \n",
    "    # Each row is cyclically shifted to the left by its row index\n",
    "    return Gfield(np.array([np.roll(row, shift = -i) for i, row in enumerate(stateMatrix)]))"
   ]
  },
  {
   "cell_type": "markdown",
   "id": "ed8bebbf",
   "metadata": {},
   "source": [
    "## Add round key"
   ]
  },
  {
   "cell_type": "code",
   "execution_count": 6,
   "id": "6d8ab8ea",
   "metadata": {},
   "outputs": [],
   "source": [
    "def addRoundKey(stateMatrix, w, i):\n",
    "\n",
    "    # XOR the current state matrix with the round key extracted from w\n",
    "    # w is the key schedule, and i is the round number\n",
    "    return stateMatrix + w[i * 4: i*4 + 4, :].transpose()"
   ]
  },
  {
   "cell_type": "markdown",
   "id": "a7a0abc8",
   "metadata": {},
   "source": [
    "## Mix columns"
   ]
  },
  {
   "cell_type": "code",
   "execution_count": 7,
   "id": "a8d85296",
   "metadata": {},
   "outputs": [],
   "source": [
    "\n",
    "def mixColumns(stateMatrix):\n",
    "\n",
    "    # Applies AES MixColumns transformation\n",
    "    # Each column of the state is multiplied by a fixed matrix (defined below)\n",
    "    A = Gfield(np.array([[0x02, 0x03, 0x01, 0x01],\n",
    "                         [0x01, 0x02, 0x03, 0x01],\n",
    "                         [0x01, 0x01, 0x02, 0x03],\n",
    "                         [0x03, 0x01, 0x01, 0x02]]))\n",
    "    \n",
    "    # Matrix multiplication in GF(2^8)\n",
    "    return A @ stateMatrix"
   ]
  },
  {
   "cell_type": "markdown",
   "id": "d289fa52",
   "metadata": {},
   "source": [
    "## Sub bytes"
   ]
  },
  {
   "cell_type": "code",
   "execution_count": 8,
   "id": "b8d9a1f4",
   "metadata": {},
   "outputs": [],
   "source": [
    "def getIndexFromHex(input):\n",
    "\n",
    "    # Extracts row and column index from a byte\n",
    "    # Upper 4 bits = row index, lower 4 bits = column index\n",
    "    return (input & 0xF0) >> 4, input & 0xF\n",
    "\n",
    "# 16x16 AES substitution box (S-box) used for the SubBytes step\n",
    "# Maps each byte to a nonlinear substitution value\n",
    "sbox = np.array([\n",
    "                [0x63, 0x7C, 0x77, 0x7B, 0xF2, 0x6B, 0x6F, 0xC5, 0x30, 0x01, 0x67, 0x2B, 0xFE, 0xD7, 0xAB, 0x76],\n",
    "                [0xCA, 0x82, 0xC9, 0x7D, 0xFA, 0x59, 0x47, 0xF0, 0xAD, 0xD4, 0xA2, 0xAF, 0x9C, 0xA4, 0x72, 0xC0],\n",
    "                [0xB7, 0xFD, 0x93, 0x26, 0x36, 0x3F, 0xF7, 0xCC, 0x34, 0xA5, 0xE5, 0xF1, 0x71, 0xD8, 0x31, 0x15],\n",
    "                [0x04, 0xC7, 0x23, 0xC3, 0x18, 0x96, 0x05, 0x9A, 0x07, 0x12, 0x80, 0xE2, 0xEB, 0x27, 0xB2, 0x75],\n",
    "                [0x09, 0x83, 0x2C, 0x1A, 0x1B, 0x6E, 0x5A, 0xA0, 0x52, 0x3B, 0xD6, 0xB3, 0x29, 0xE3, 0x2F, 0x84],\n",
    "                [0x53, 0xD1, 0x00, 0xED, 0x20, 0xFC, 0xB1, 0x5B, 0x6A, 0xCB, 0xBE, 0x39, 0x4A, 0x4C, 0x58, 0xCF],\n",
    "                [0xD0, 0xEF, 0xAA, 0xFB, 0x43, 0x4D, 0x33, 0x85, 0x45, 0xF9, 0x02, 0x7F, 0x50, 0x3C, 0x9F, 0xA8],\n",
    "                [0x51, 0xA3, 0x40, 0x8F, 0x92, 0x9D, 0x38, 0xF5, 0xBC, 0xB6, 0xDA, 0x21, 0x10, 0xFF, 0xF3, 0xD2],\n",
    "                [0xCD, 0x0C, 0x13, 0xEC, 0x5F, 0x97, 0x44, 0x17, 0xC4, 0xA7, 0x7E, 0x3D, 0x64, 0x5D, 0x19, 0x73],\n",
    "                [0x60, 0x81, 0x4F, 0xDC, 0x22, 0x2A, 0x90, 0x88, 0x46, 0xEE, 0xB8, 0x14, 0xDE, 0x5E, 0x0B, 0xDB],\n",
    "                [0xE0, 0x32, 0x3A, 0x0A, 0x49, 0x06, 0x24, 0x5C, 0xC2, 0xD3, 0xAC, 0x62, 0x91, 0x95, 0xE4, 0x79],\n",
    "                [0xE7, 0xC8, 0x37, 0x6D, 0x8D, 0xD5, 0x4E, 0xA9, 0x6C, 0x56, 0xF4, 0xEA, 0x65, 0x7A, 0xAE, 0x08],\n",
    "                [0xBA, 0x78, 0x25, 0x2E, 0x1C, 0xA6, 0xB4, 0xC6, 0xE8, 0xDD, 0x74, 0x1F, 0x4B, 0xBD, 0x8B, 0x8A],\n",
    "                [0x70, 0x3E, 0xB5, 0x66, 0x48, 0x03, 0xF6, 0x0E, 0x61, 0x35, 0x57, 0xB9, 0x86, 0xC1, 0x1D, 0x9E],\n",
    "                [0xE1, 0xF8, 0x98, 0x11, 0x69, 0xD9, 0x8E, 0x94, 0x9B, 0x1E, 0x87, 0xE9, 0xCE, 0x55, 0x28, 0xDF],\n",
    "                [0x8C, 0xA1, 0x89, 0x0D, 0xBF, 0xE6, 0x42, 0x68, 0x41, 0x99, 0x2D, 0x0F, 0xB0, 0x54, 0xBB, 0x16],\n",
    "                ]) # Full S-box omitted here for brevity; already correctly defined\n",
    "\n",
    "\n",
    "def subBytes(stateMatrix):\n",
    "    \n",
    "    # Applies the AES SubBytes step using the S-box\n",
    "    for i in range(np.shape(stateMatrix)[0]):\n",
    "        for j in range(np.shape(stateMatrix)[1]):\n",
    "            x, y = getIndexFromHex(stateMatrix[i, j])\n",
    "            stateMatrix[i, j] = sbox[x, y]\n",
    "    return stateMatrix"
   ]
  },
  {
   "cell_type": "markdown",
   "id": "a222a8ea",
   "metadata": {},
   "source": [
    "ref: https://gist.github.com/bonsaiviking/5571001"
   ]
  },
  {
   "cell_type": "markdown",
   "id": "3548e46f",
   "metadata": {},
   "source": [
    "## Key expansion"
   ]
  },
  {
   "cell_type": "code",
   "execution_count": 9,
   "id": "865ca5df",
   "metadata": {},
   "outputs": [],
   "source": [
    "def keyExpansion(key): \n",
    "    Nk = 4   #number of columns in state (Number of 32-bit words in the key (AES-128 uses 4)\n",
    "    Nb = 4   #number of 32 bit words in cipher key (Number of columns (words) in the state matrix)\n",
    "    Nr = 10  #number of rounds for AES-128\n",
    "    \n",
    "    # Initialize the key schedule matrix (44 words × 4 bytes = 176 bytes\n",
    "    w = np.zeros((44, 4), dtype = int)\n",
    "    \n",
    "    # First Nk words are taken directly from the original cipher key\n",
    "    w[:Nk, :] = key.reshape(4,4)\n",
    "    \n",
    "    i = Nk\n",
    "    while i < Nb * (Nr + 1):\n",
    "        # Copy previous word\n",
    "        temp = Gfield(w[i - 1,:]) \n",
    "        \n",
    "        if i % Nk == 0:\n",
    "\n",
    "            # Perform key schedule core:\n",
    "            # 1. Rotate left (RotWord)\n",
    "            afterRotWord = np.roll(temp, -1)\n",
    "\n",
    "            # 2. Apply SubWord (byte-wise substitution using S-box)\n",
    "            afterSubWord = subWord(afterRotWord)\n",
    "\n",
    "            # 3. XOR with round constant\n",
    "            temp = Gfield(afterSubWord) + Gfield(roundConstant(i//Nk))\n",
    "\n",
    "        # w[i] = w[i - Nk] XOR temp\n",
    "        w[i, :] = Gfield(w[i - Nk,:]) + temp\n",
    "        i += 1\n",
    "    return w\n",
    "\n",
    "def roundConstant(i):\n",
    "    if i == 1:\n",
    "        # First round constant is 0x01 followed by 0s\n",
    "        return Gfield(np.array([0x01, 0x0, 0x0, 0x0]))\n",
    "    \n",
    "    # Subsequent constants are powers of 0x02 in GF(2^8)\n",
    "    array = Gfield(np.array([0x02, 0x0, 0x0, 0x0]))\n",
    "    return array**(i-1)\n",
    "\n",
    "def subWord(vector):\n",
    "\n",
    "    # Applies the AES S-box substitution to a 4-byte word\n",
    "    for i in range(np.shape(vector)[0]):\n",
    "        x, y = getIndexFromHex(vector[i])\n",
    "        vector[i] = sbox[x, y]\n",
    "    return vector"
   ]
  },
  {
   "cell_type": "markdown",
   "id": "6f59b1ac",
   "metadata": {},
   "source": [
    "## AES Encrypt"
   ]
  },
  {
   "cell_type": "code",
   "execution_count": 10,
   "id": "8f834ab1",
   "metadata": {},
   "outputs": [],
   "source": [
    "def printInHex(stateMatrix):\n",
    "    # Prints the 4×4 state matrix in hexadecimal format for visualization\n",
    "    for row in stateMatrix:\n",
    "        print(\" \".join(f\"{val:02x}\" for val in row))\n",
    "    print(\"\\n\")\n",
    "\n",
    "def aesEncrypt(stateMatrix, key):\n",
    "\n",
    "    # Expand the key into round keys using keyExpansion\n",
    "    # w has shape (44, 4), 11 round keys of 4 words (4x4 each)\n",
    "    w = Gfield(keyExpansion(key))\n",
    "\n",
    "    # Initial AddRoundKey step before the first round\n",
    "    stateMatrix = stateMatrix + w[:4,:4].transpose()   \n",
    "\n",
    "    \n",
    "    # Perform 9 full rounds: SubBytes, ShiftRows, MixColumns, AddRoundKey\n",
    "    for i in range(1, 10):\n",
    "\n",
    "        # Byte-wise substitution using S-box\n",
    "        stateMatrix = subBytes(stateMatrix)\n",
    "     \n",
    "        # Rotate rows to the left\n",
    "        stateMatrix = shiftRows(stateMatrix)\n",
    "    \n",
    "        # Mix columns using linear transformation\n",
    "        stateMatrix = mixColumns(stateMatrix)\n",
    "     \n",
    "        # XOR with round key for round i\n",
    "        stateMatrix = addRoundKey(stateMatrix, w, i)\n",
    "    \n",
    "    # Final (10th) round – no MixColumns\n",
    "    stateMatrix = subBytes(stateMatrix)\n",
    "    stateMatrix = shiftRows(stateMatrix)\n",
    "\n",
    "    # Final AddRoundKey\n",
    "    stateMatrix += w[10 * 4: 10 * 4 + 4, :].transpose()\n",
    "\n",
    "    # Encrypted state (ciphertext)\n",
    "    return stateMatrix"
   ]
  },
  {
   "cell_type": "markdown",
   "id": "ceaeb666",
   "metadata": {},
   "source": [
    "## Counter mode"
   ]
  },
  {
   "cell_type": "code",
   "execution_count": 11,
   "id": "b2175b9a",
   "metadata": {},
   "outputs": [],
   "source": [
    "def printVectorHex(vector):\n",
    "    # Prints a 1D vector in hexadecimal format\n",
    "    print(\" \".join(f\"{int(val):02x}\" for val in vector))\n",
    "\n",
    "def counterMode(message, key, nonce):\n",
    "\n",
    "    # Flatten the message to an array of bytes\n",
    "    temp = message.flatten()\n",
    "\n",
    "    # Prepare an empty output array in GF(2^8)\n",
    "    output = Gfield(np.array([], dtype=int))\n",
    "\n",
    "    # Pad the message so its length is a multiple of 16 bytes (AES block size)\n",
    "    if len(temp) % 16 != 0:\n",
    "        temp = np.append(temp, np.zeros(16 - len(temp) % 16, dtype=int))\n",
    "\n",
    "    # Process each 16-byte block of the message\n",
    "    for i in range(len(temp) // 16):\n",
    "        # Convert current nonce to a 16-byte array and reshape as 4×4 state matrix\n",
    "        nonceAsMatrix = Gfield(np.array(list(nonce.to_bytes(16, 'big'))).reshape(4, 4)).T\n",
    "\n",
    "        # Encrypt the nonce using AES\n",
    "        encrypted = aesEncrypt(nonceAsMatrix, key).T\n",
    "\n",
    "        # Extract current plaintext block and reshape into a 4×4 matrix\n",
    "        stateMatrix = temp[i * 16 : (i + 1) * 16].reshape(4, 4)\n",
    "\n",
    "        # XOR the AES-encrypted nonce with the plaintext block (as in CTR mode)\n",
    "        output = np.append(output, (Gfield(encrypted) + Gfield(stateMatrix)).flatten())\n",
    "\n",
    "        # Increment nonce for the next block\n",
    "        nonce += 1\n",
    "\n",
    "    # Remove padding to match original message length\n",
    "    output = output.flatten()\n",
    "\n",
    "    output = output[:message.size] \n",
    " \n",
    "    return output\n",
    "\n",
    "\n",
    "\n"
   ]
  },
  {
   "cell_type": "markdown",
   "id": "3e39e13a",
   "metadata": {},
   "source": [
    "## Test"
   ]
  },
  {
   "cell_type": "code",
   "execution_count": 12,
   "id": "01c06173",
   "metadata": {},
   "outputs": [
    {
     "name": "stdout",
     "output_type": "stream",
     "text": [
      "Message: \n",
      " Brian, top marks for not trying\n",
      "                So kind of you to bless us with your effortlessness\n",
      "                We're grateful and so strangely comforted\n",
      "\n",
      "\n",
      "                And I wonder, are you putting us under?\n",
      "                'Cause we can't take our eyes off the t-shirt and ties combination\n",
      "                Well, see you later, innovator\n",
      "\n",
      "                Some want to kiss, some want to kick you\n",
      "                There's not a net you couldn't slip through\n",
      "                Or at least that's the impression I get, 'cause you're smooth and you're wet\n",
      "                And she's not aware yet, but she's yours\n",
      "                She'll be saying, \"Use me, show me the jacuzzi\"\n",
      "                I imagine that it's there on a plate, your high rendezvous rate\n",
      "                Means that you'll never be frightened to make 'em wait for a while\n",
      "\n",
      "                I doubt it's your style not to get\n",
      "                What you set out to acquire, the eyes are on fire\n",
      "                You are the unforecasted storm, oh\n",
      "\n",
      "Cypher Text: \n",
      "�\u0014;\u0001\u0011��f\u0002#D5T��\u0000i���aa�W_cFIV�x�f�_�U����8�[)���\u0013\u0017�\u0015P�\u0012&8�\u0011h�K\\��Q2A\u001f\t����I\t�lG��ހ�\u000fQ/����\u0019�\u0010�TD�H�t����,\\�ZJ�V��S���Z<=J\u001f���ZzM��$U��\n",
      "�߹�8f\u0001Գo�\u000eYp�Y5����Q�z\u0019h\u0018\u0000\u0018e0'�~��\n",
      "]¦i7\u0000����\u0010\u001f2��-�s\u0007g\u0000���&�K��\n",
      "\u000e�U\u0010��b̃M�9�U�H'���P���~�L�v�,θ���Z/MX\u0014�WY��G\t\u001b܆Td%��|�҂.\u0001H@R��?M9@z�3�53�S��yo\u0015!\u0015f��\u0019�Q�\f4QĔ\u000f\u0018��D\u0011\u0002�\u001f�S\u001c\u0001Z���ύܩa�ہ\u0005��+T�����@�fg��\u0018�\tOι2S�e\u000f���Ql���ǡ�ye���&vq#�\n",
      "\u0003\u0006���x�EN\f℗\u0014�˖2^�?���.�^��(a�0���^��_\u001b~1�\u0005�\u0000��va*�\u0006��y(��ZPl\u0011~�� { \u0017=G|.xu6\u0018\t���ՠ\u0000yl�B�{����Z�����\u0013\\P��X��KO�[orqK���q�]��\u001e{���\\\u001a��㼓ip�����\n",
      "| ��]��H��EW�\u0002y!��s,ן*\u00108m���\u0000ލ�֖���\u000e-%�H�\u0017p�̩\u001d/1\u001a2e9.\u0014,�NB+[����/%y\"�;���\u0004o�[b�ӄ�����&��Ȑ�\u0017�3�_Z���h܎\u001c��\u001ay�����\u0014�+̘����P\u0013��\u000bVſ+�\u001d}\u001e\u0014.�F,�7�}\u001a�4����L%(�_��p��\u001d�aB$�Z�#�����1$Ri��\u0016�����\u0019@\u000b�\u001b\u0004�Ə�\u001bA5\u001f�\u0005�ц�tr\u0001���M�1{>\u001c��*k�lr�(�\u0010~��^_S�2�����6\"�`\u0000\u0018E��Q�Z�;\u001f�R��JvMX���\u000f]�a|H�B�[�.¦\tD��\u0010�\u0005�c\u0010yP��i�uKG\u001a\u0001�X�\u001f䡤\n",
      "?v*p\\\u0007�'��qp��:�0cۧO��I\u0004\u0016���مK\"T+��i�3\u000eix\t}��\n",
      "�#�҂3K\u0002(p��L1��x3kZ�\u001d�RS�\u0007�٠��e�ٯm\n",
      "\n",
      "Decrypted String: \n",
      " Brian, top marks for not trying\n",
      "                So kind of you to bless us with your effortlessness\n",
      "                We're grateful and so strangely comforted\n",
      "\n",
      "\n",
      "                And I wonder, are you putting us under?\n",
      "                'Cause we can't take our eyes off the t-shirt and ties combination\n",
      "                Well, see you later, innovator\n",
      "\n",
      "                Some want to kiss, some want to kick you\n",
      "                There's not a net you couldn't slip through\n",
      "                Or at least that's the impression I get, 'cause you're smooth and you're wet\n",
      "                And she's not aware yet, but she's yours\n",
      "                She'll be saying, \"Use me, show me the jacuzzi\"\n",
      "                I imagine that it's there on a plate, your high rendezvous rate\n",
      "                Means that you'll never be frightened to make 'em wait for a while\n",
      "\n",
      "                I doubt it's your style not to get\n",
      "                What you set out to acquire, the eyes are on fire\n",
      "                You are the unforecasted storm, oh\n"
     ]
    }
   ],
   "source": [
    "def printInHex(stateMatrix):\n",
    "\n",
    "    # Prints the 4×4 state matrix in hexadecimal format for visualization\n",
    "    for row in stateMatrix:\n",
    "        print(\" \".join(f\"{val:02x}\" for val in row))\n",
    "    print(\"\\n\")\n",
    "        \n",
    "def runTest():\n",
    "    # Example plaintext in a 4×4 state matrix format\n",
    "    stateMatrix = Gfield(np.array([[0x32, 0x88, 0x31, 0xe0],\n",
    "                                   [0x43, 0x5a, 0x31, 0x37],\n",
    "                                   [0xf6, 0x30, 0x98, 0x07],\n",
    "                                   [0xa8, 0x8d, 0xa2, 0x34]]))\n",
    "    \n",
    "    # stateMatrix = Gfield(np.array([[0x41, 0x6c, 0x66, 0x62],\n",
    "    #                                [0x65, 0x64, 0x00, 0x00],\n",
    "    #                                [0x00, 0x00, 0x00, 0x00],\n",
    "    #                                [0x00, 0x00, 0x00, 0x00]]))\n",
    "    \n",
    "    # AES-128 key (16 bytes)\n",
    "    testKey = Gfield(np.array([0x2b, 0x7e, 0x15, 0x16, 0x28, 0xae, 0xd2, 0xa6, 0xab, 0xf7, 0x15, 0x88, 0x09, 0xcf, 0x4f, 0x3c]))\n",
    "\n",
    "    # Encrypt using AES\n",
    "    encrypted = aesEncrypt(stateMatrix, testKey)\n",
    "\n",
    "    # Display original and encrypted matrices\n",
    "    # printInHex(stateMatrix)\n",
    "    # printInHex(encrypted)\n",
    "\n",
    "def runCounterModeTest():\n",
    "    message =\"\"\"Brian, top marks for not trying\n",
    "                So kind of you to bless us with your effortlessness\n",
    "                We're grateful and so strangely comforted\n",
    "\n",
    "\n",
    "                And I wonder, are you putting us under?\n",
    "                'Cause we can't take our eyes off the t-shirt and ties combination\n",
    "                Well, see you later, innovator\n",
    "\n",
    "                Some want to kiss, some want to kick you\n",
    "                There's not a net you couldn't slip through\n",
    "                Or at least that's the impression I get, 'cause you're smooth and you're wet\n",
    "                And she's not aware yet, but she's yours\n",
    "                She'll be saying, \"Use me, show me the jacuzzi\"\n",
    "                I imagine that it's there on a plate, your high rendezvous rate\n",
    "                Means that you'll never be frightened to make 'em wait for a while\n",
    "\n",
    "                I doubt it's your style not to get\n",
    "                What you set out to acquire, the eyes are on fire\n",
    "                You are the unforecasted storm, oh\"\"\"\n",
    "    print(\"Message: \\n\", message) \n",
    "    print()\n",
    "\n",
    "    # AES-128 test key\n",
    "    testKey = Gfield(np.array([0x2b, 0x7e, 0x15, 0x16, 0x28, 0xae, 0xd2, 0xa6, 0xab, 0xf7, 0x15, 0x88, 0x09, 0xcf, 0x4f, 0x3c]))\n",
    "\n",
    "    # Convert message to byte array (as integers)\n",
    "    messageAsInt = np.array([byte for byte in message.encode(\"utf-8\")])\n",
    "\n",
    "    # Encrypt using CTR mode (encryption and decryption are symmetric in CTR)\n",
    "    cypherText = counterMode(messageAsInt, testKey, 1)\n",
    "\n",
    "    # Convert ciphertext to UTF-8-safe printable string\n",
    "    cypherTextBytes = bytes([int(x) for x in cypherText])\n",
    "    cypherTextString = cypherTextBytes.decode('utf-8', errors='replace')\n",
    "    print(\"Cypher Text: \\n\", cypherTextString)\n",
    "    print()\n",
    "\n",
    "    # Decrypt (re-encrypt with same key and nonce)\n",
    "    decryptedText = counterMode(cypherText, testKey, 1)   \n",
    "\n",
    "    decrypted_bytes = bytes([int(x) for x in decryptedText])\n",
    "    decrypted_str = decrypted_bytes.decode('utf-8', errors='replace')\n",
    "    print(\"Decrypted String: \\n\", decrypted_str)\n",
    "  \n",
    "    \n",
    "#runTest()\n",
    "runCounterModeTest()"
   ]
  },
  {
   "cell_type": "markdown",
   "id": "3100cdf9",
   "metadata": {},
   "source": [
    "## Counter mode test"
   ]
  },
  {
   "cell_type": "code",
   "execution_count": 13,
   "id": "e85ba285",
   "metadata": {},
   "outputs": [
    {
     "name": "stdout",
     "output_type": "stream",
     "text": [
      "Plaintext:\n",
      "6b c1 be e2 2e 40 9f 96 e9 3d 7e 11 73 93 17 2a\n",
      "ae 2d 8a 57 1e 03 ac 9c 9e b7 6f ac 45 af 8e 51\n",
      "30 c8 1c 46 a3 5c e4 11 e5 fb c1 19 1a 0a 52 ef\n",
      "f6 9f 24 45 df 4f 9b 17 ad 2b 41 7b e6 6c 37 10\n",
      "Ciphertext:\n",
      "87 4d 61 91 b6 20 e3 26 1b ef 68 64 99 0d b6 ce\n",
      "98 06 f6 6b 79 70 fd ff 86 17 18 7b b9 ff fd ff\n",
      "5a e4 df 3e db d5 d3 5e 5b 4f 09 02 0d b0 3e ab\n",
      "1e 03 1d da 2f be 03 d1 79 21 70 a0 f3 00 9c ee\n",
      "DecipheredText:\n",
      "6b c1 be e2 2e 40 9f 96 e9 3d 7e 11 73 93 17 2a\n",
      "ae 2d 8a 57 1e 03 ac 9c 9e b7 6f ac 45 af 8e 51\n",
      "30 c8 1c 46 a3 5c e4 11 e5 fb c1 19 1a 0a 52 ef\n",
      "f6 9f 24 45 df 4f 9b 17 ad 2b 41 7b e6 6c 37 10\n"
     ]
    }
   ],
   "source": [
    "# Convert the nonce integer into a 4x4 matrix of bytes (little-endian order)\n",
    "nonce = 0xf0f1f2f3f4f5f6f7f8f9fafbfcfdfeff\n",
    "testKey = Gfield(np.array([0x2b, 0x7e, 0x15, 0x16, 0x28, 0xae, 0xd2, 0xa6, 0xab, 0xf7, 0x15, 0x88, 0x09, 0xcf, 0x4f, 0x3c]))\n",
    "plainText = Gfield(np.array([0x6b,0xc1,0xbe,0xe2,0x2e,0x40,0x9f,0x96,0xe9,0x3d,0x7e,0x11,0x73,0x93,0x17,0x2a,\n",
    "                            0xae, 0x2d, 0x8a, 0x57, 0x1e, 0x03, 0xac, 0x9c, 0x9e, 0xb7, 0x6f, 0xac, 0x45, 0xaf, 0x8e, 0x51,\n",
    "                            0x30, 0xc8, 0x1c, 0x46, 0xa3, 0x5c, 0xe4, 0x11, 0xe5, 0xfb, 0xc1, 0x19, 0x1a, 0x0a, 0x52, 0xef,\n",
    "                            0xf6, 0x9f, 0x24, 0x45, 0xdf, 0x4f, 0x9b, 0x17, 0xad, 0x2b, 0x41, 0x7b, 0xe6, 0x6c, 0x37, 0x10]))\n",
    "cypherText = counterMode(plainText, testKey, nonce)\n",
    "decipheredText = counterMode(cypherText, testKey, nonce)\n",
    "\n",
    "print(\"Plaintext:\")\n",
    "for i in range(0,4):\n",
    "    printVectorHex(plainText[i*16:(i + 1)*16])\n",
    "\n",
    "print(\"Ciphertext:\")\n",
    "for i in range(0,4):\n",
    "    printVectorHex(cypherText[i*16:(i + 1)*16])\n",
    "\n",
    "print(\"DecipheredText:\")\n",
    "for i in range(0,4):\n",
    "    printVectorHex(decipheredText[i*16:(i + 1)*16])"
   ]
  },
  {
   "cell_type": "code",
   "execution_count": null,
   "id": "bcaab499",
   "metadata": {},
   "outputs": [],
   "source": [
    "\n"
   ]
  },
  {
   "cell_type": "markdown",
   "id": "1ad4b933",
   "metadata": {},
   "source": [
    "## Image to greyscale bytes"
   ]
  },
  {
   "cell_type": "code",
   "execution_count": 14,
   "id": "4162930c",
   "metadata": {},
   "outputs": [],
   "source": [
    "def byteArrayToGrayscaleImage(byte_array, shape):\n",
    "    \"\"\"\n",
    "    Reconstructs an 8-bit grayscale image from a flat byte array and target shape.\n",
    "\n",
    "    Parameters:\n",
    "        byte_array: 1D NumPy array with values in [0, 255]\n",
    "        shape: tuple (height, width) – e.g. (256, 256)\n",
    "\n",
    "    Returns:\n",
    "        image: 2D NumPy array (dtype=uint8) representing the grayscale image\n",
    "    \"\"\"\n",
    "    expected_size = shape[0] * shape[1]\n",
    "    if len(byte_array) != expected_size:\n",
    "        raise ValueError(f\"Byte count ({len(byte_array)}) does not match expected size {shape}.\")\n",
    "\n",
    "    # Reshape the flat array into 2D image format\n",
    "    image = np.array(byte_array, dtype = np.uint8).reshape(shape)\n",
    "    return image"
   ]
  },
  {
   "cell_type": "markdown",
   "id": "009455fb",
   "metadata": {},
   "source": [
    "## Greyscale bytes to image"
   ]
  },
  {
   "cell_type": "code",
   "execution_count": 15,
   "id": "5df678d7",
   "metadata": {},
   "outputs": [],
   "source": [
    "def grayscaleImageToByteArray(image_path):\n",
    "    \"\"\"\n",
    "    Reads an 8-bit grayscale image and returns a 1D NumPy array of bytes (0–255),\n",
    "    equivalent to np.array([byte for byte in message.encode('utf-8')]).\n",
    "    \"\"\"\n",
    "    # Read the image\n",
    "    # image = iio.imread(image_path)[:,:,0] # For other images than the 10 x 10 grey scale one\n",
    "    image = iio.imread(image_path)\n",
    "\n",
    "    # Check: must be 2D (grayscale)\n",
    "    if image.ndim != 2:\n",
    "        raise ValueError(\"The image must be grayscale (2D).\")\n",
    "\n",
    "    # Ensure 8-bit format\n",
    "    image = image.astype(np.uint8)\n",
    "\n",
    "    # Flatten the image into a 1D byte array\n",
    "    byte_array = np.array(image.flatten(), dtype=np.uint8)\n",
    "\n",
    "    return byte_array"
   ]
  },
  {
   "cell_type": "markdown",
   "id": "14b381a6",
   "metadata": {},
   "source": [
    "## Test of converting image to bytes and encryption of those"
   ]
  },
  {
   "cell_type": "code",
   "execution_count": 16,
   "id": "6152bcec",
   "metadata": {},
   "outputs": [
    {
     "name": "stdout",
     "output_type": "stream",
     "text": [
      "[  0  25  50  75 100 125 150 175 200 225   0  25  50  75 100 125 150 175\n",
      " 200 225   0  25  50  75 100 125 150 175 200 225   0  25  50  75 100 125\n",
      " 150 175 200 225   0  25  50  75 100 125 150 175 200 225   0  25  50  75\n",
      " 100 125 150 175 200 225   0  25  50  75 100 125 150 175 200 225   0  25\n",
      "  50  75 100 125 150 175 200 225   0  25  50  75 100 125 150 175 200 225\n",
      "   0  25  50  75 100 125 150 175 200 225]\n",
      "\n",
      "Length: 100 bytes\n"
     ]
    }
   ],
   "source": [
    "# Convert the image into a flat byte array (1D NumPy array of uint8 values)\n",
    "byte_array = grayscaleImageToByteArray(\"10x10_grayscale.png\") \n",
    "\n",
    "# Print all byte values from the image (flattened)\n",
    "print(byte_array) \n",
    "print()\n",
    "\n",
    "# Print the total number of bytes (i.e., pixels in the grayscale image)\n",
    "print(f\"Length: {len(byte_array)} bytes\")"
   ]
  },
  {
   "cell_type": "code",
   "execution_count": 17,
   "id": "3e337dcc",
   "metadata": {},
   "outputs": [
    {
     "data": {
      "image/png": "[encoded data removed]",
      "text/plain": [
       "<Figure size 640x480 with 1 Axes>"
      ]
     },
     "metadata": {},
     "output_type": "display_data"
    }
   ],
   "source": [
    "# Assume known dimensions\n",
    "shape = (10, 10)  # ← Adjust this to match the actual image size!\n",
    "\n",
    "# Original image\n",
    "original_image = byteArrayToGrayscaleImage(byte_array, shape)\n",
    "\n",
    "# Display the image\n",
    "plt.imshow(original_image, cmap='gray')\n",
    "plt.title(\"Original Image\")\n",
    "plt.axis('off')\n",
    "plt.show()\n"
   ]
  },
  {
   "cell_type": "code",
   "execution_count": 18,
   "id": "0a1bd00b",
   "metadata": {},
   "outputs": [
    {
     "name": "stdout",
     "output_type": "stream",
     "text": [
      "Cipher image bytes:\n",
      " [ 87  11  79  11  80 204  40  16 102  21 102 160 245  57  11 187   1 144\n",
      " 230  18  72  96 208  73  27 106 162 159 247  19  31 144 116 215  27 182\n",
      " 227 122  17  64 180   1 249 210  31 116  55  42  66 157  55 180  78 117\n",
      " 187  79 223 241   6  43 222 219   3  87 139  85  78 136 241  28 140 104\n",
      " 117 121  91   3   7 111   3  27  48 127 214  85   3 224  30  23  39  10\n",
      " 123  36 120 184 146 188  29 197  56 251]\n",
      "\n",
      "Decrypted image bytes:\n",
      " [  0  25  50  75 100 125 150 175 200 225   0  25  50  75 100 125 150 175\n",
      " 200 225   0  25  50  75 100 125 150 175 200 225   0  25  50  75 100 125\n",
      " 150 175 200 225   0  25  50  75 100 125 150 175 200 225   0  25  50  75\n",
      " 100 125 150 175 200 225   0  25  50  75 100 125 150 175 200 225   0  25\n",
      "  50  75 100 125 150 175 200 225   0  25  50  75 100 125 150 175 200 225\n",
      "   0  25  50  75 100 125 150 175 200 225]\n"
     ]
    }
   ],
   "source": [
    "testKey = Gfield(np.array([0x2b, 0x7e, 0x15, 0x16, 0x28, 0xae, 0xd2, 0xa6, 0xab, 0xf7, 0x15, 0x88, 0x09, 0xcf, 0x4f, 0x3c]))\n",
    "\n",
    "# Encrypt the grayscale byte array using AES in CTR mode\n",
    "cypherImageBytes = counterMode(byte_array, testKey, 1)\n",
    "\n",
    "# Print the encrypted byte values\n",
    "print(\"Cipher image bytes:\\n\", cypherImageBytes)\n",
    "print()\n",
    "\n",
    "# Decrypt the image by reapplying AES CTR with the same key and nonce\n",
    "decryptedText = counterMode(cypherImageBytes, testKey, 1)\n",
    "\n",
    "# Print the decrypted byte values (should match the original image)\n",
    "print(\"Decrypted image bytes:\\n\", decryptedText)\n"
   ]
  },
  {
   "cell_type": "markdown",
   "id": "ae4c934c",
   "metadata": {},
   "source": [
    "## Transform bytes into greyscale image"
   ]
  },
  {
   "cell_type": "code",
   "execution_count": 19,
   "id": "3206d058",
   "metadata": {},
   "outputs": [
    {
     "data": {
      "image/png": "[encoded data removed]",
      "text/plain": [
       "<Figure size 1200x600 with 3 Axes>"
      ]
     },
     "metadata": {},
     "output_type": "display_data"
    }
   ],
   "source": [
    "# Assume known image dimensions\n",
    "\n",
    "# Reconstruct images from byte arrays\n",
    "encrypted_image = byteArrayToGrayscaleImage(cypherImageBytes, shape)\n",
    "restored_image = byteArrayToGrayscaleImage(decryptedText, shape)\n",
    "\n",
    "# Plot side by side\n",
    "import matplotlib.pyplot as plt\n",
    "\n",
    "# 1 row, 2 columns\n",
    "fig, ax = plt.subplots(1, 3, figsize=(12, 6))  \n",
    "\n",
    "\n",
    "# Left: original image\n",
    "ax[0].imshow(original_image, cmap = \"gray\")\n",
    "ax[0].set_title(\"Original Image\")\n",
    "ax[0].axis('off')\n",
    "\n",
    "# Middle: encrypted image\n",
    "ax[1].imshow(encrypted_image, cmap='gray')\n",
    "ax[1].set_title(\"Encrypted Image\")\n",
    "ax[1].axis('off')\n",
    "\n",
    "# Right: decrypted (original) image\n",
    "ax[2].imshow(restored_image, cmap='gray')\n",
    "ax[2].set_title(\"Decrypted Image\")\n",
    "ax[2].axis('off')\n",
    "\n",
    "plt.tight_layout()\n",
    "plt.show()"
   ]
  },
  {
   "cell_type": "code",
   "execution_count": 20,
   "id": "8302cc1f",
   "metadata": {},
   "outputs": [
    {
     "data": {
      "text/plain": [
       "(0, 0)"
      ]
     },
     "execution_count": 20,
     "metadata": {},
     "output_type": "execute_result"
    }
   ],
   "source": [
    "(original_image - restored_image).max(), (original_image - restored_image).min()"
   ]
  },
  {
   "cell_type": "markdown",
   "id": "c4d652a1",
   "metadata": {},
   "source": [
    "## Galois Counter Mode"
   ]
  },
  {
   "cell_type": "code",
   "execution_count": 106,
   "id": "0b881388",
   "metadata": {},
   "outputs": [],
   "source": [
    "irreducible_poly_128_bits = [1,0,0,0,0,0,0,0,0,0,0,0,0,0,0,0,0,\n",
    "            0,0,0,0,0,0,0,0,0,0,0,0,0,0,0,0,\n",
    "            0,0,0,0,0,0,0,0,0,0,0,0,0,0,0,0,\n",
    "            0,0,0,0,0,0,0,0,0,0,0,0,0,0,0,0,\n",
    "            0,0,0,0,0,0,0,0,0,0,0,0,0,0,0,0,\n",
    "            0,0,0,0,0,0,0,0,0,0,0,0,0,0,0,0,\n",
    "            0,0,0,0,0,0,0,0,0,0,0,0,0,0,0,0,\n",
    "            0,0,0,0,0,0,0,0,1,0,0,0,0,1,1,1]\n",
    "\n",
    "irreducible_poly_128 = galois.Poly(irreducible_poly_128_bits, field = GF2)\n",
    "# Define the extension field GF(2^8) using the given irreducible polynomial\n",
    "Gfield128 = galois.GF(2**128, irreducible_poly = irreducible_poly_128)"
   ]
  },
  {
   "cell_type": "code",
   "execution_count": 147,
   "id": "171f7bd7",
   "metadata": {},
   "outputs": [],
   "source": [
    "def convertToBits(byte_array):\n",
    "    return np.unpackbits(np.array(byte_array, dtype=np.uint8))\n",
    "\n",
    "def convertBitsToBytes(bit_array):\n",
    "    bit_array = np.array(bit_array, dtype=np.uint8)\n",
    "    if len(bit_array) % 8 != 0:\n",
    "        pad_len = 8 - (len(bit_array) % 8)\n",
    "        bit_array = np.concatenate([bit_array, np.zeros(pad_len, dtype=np.uint8)])\n",
    "    return np.packbits(bit_array)\n",
    "\n",
    "def computeTag(cypherText , key, nonce):\n",
    "    temp = cypherText\n",
    "\n",
    "    nonceAsMatrix = Gfield(np.array(list(nonce.to_bytes(16, 'big'))).reshape(4, 4)).T\n",
    "\n",
    "    # 0^128\n",
    "    zero_block = Gfield(np.zeros((4, 4), dtype=int))\n",
    "\n",
    "    # Step 1\n",
    "    H = aesEncrypt(zero_block, key).T.flatten() \n",
    "    print(\"H:\") \n",
    "    printVectorHex(H) \n",
    "\n",
    "    H_bits = convertToBits(H)\n",
    "\n",
    "    # Convert H to GF(2^128)\n",
    "    H_galois = Gfield128(np.array(H_bits, dtype=int))\n",
    "\n",
    "    initalVector = Gfield128(convertToBits(aesEncrypt(nonceAsMatrix, key).T.flatten()))\n",
    "    print(\"Initial Vector:\")\n",
    "    printVectorHex(convertBitsToBytes(initalVector))\n",
    "    if len(temp) % 16 != 0:\n",
    "        temp = np.append(temp, np.zeros(16 - len(temp) % 16, dtype=int))\n",
    "\n",
    "    tag = Gfield128(convertToBits(temp[:16])) * H_galois\n",
    "    print(\"Initial Tag:\")\n",
    "    printVectorHex(convertBitsToBytes(tag))\n",
    "    \n",
    "    for i in range(1, (len(temp) // 16) - 1):\n",
    "        tag = (Gfield128(convertToBits(temp[i * 16 : (i + 1) * 16])) + tag) * H_galois\n",
    "\n",
    "    length = cypherText.size * 8\n",
    "\n",
    "    # Convert length (int) to a 128-bit (16-byte) big-endian array, then to bits\n",
    "    length_bytes = length.to_bytes(16, 'big')\n",
    "    length_bits = np.unpackbits(np.frombuffer(length_bytes, dtype=np.uint8))\n",
    "    # Convert length bits to Gfield128\n",
    "    length_galois = Gfield128(length_bits)\n",
    "    # Compute the final tag\n",
    "    tag = (length_galois + tag) * H_galois\n",
    "    tag = tag + initalVector\n",
    "    tag_bytes = convertBitsToBytes(tag)\n",
    "    return tag_bytes\n",
    "\n",
    "\n",
    "\n",
    "\n",
    "def gcmEncrypt(message, key, nonce):\n",
    "    C = counterMode(message, key, nonce + 1)\n",
    "    tag = computeTag(C, key, nonce)\n",
    "    print(\"Tag:\", tag)\n",
    "    output = np.concatenate((C, tag))\n",
    "    return output\n",
    "\n"
   ]
  },
  {
   "cell_type": "markdown",
   "id": "b14d9205",
   "metadata": {},
   "source": [
    "## Test case 2 (page 27)"
   ]
  },
  {
   "cell_type": "code",
   "execution_count": 148,
   "id": "f3ceaf8d",
   "metadata": {},
   "outputs": [
    {
     "name": "stdout",
     "output_type": "stream",
     "text": [
      "H:\n",
      "66 e9 4b d4 ef 8a 2c 3b 88 4c fa 59 ca 34 2b 2e\n",
      "Initial Vector:\n",
      "58 e2 fc ce fa 7e 30 61 36 7f 1d 57 a4 e7 45 5a\n",
      "Initial Tag:\n",
      "02 88 4a c4 60 82 20 12 80 08 c2 19 40 30 2a 28\n",
      "Tag: [ 90 106 182  10 154 252  16 115 182 119 223  78 228 215 111 114]\n",
      "03 88 da ce 60 b6 a3 92 f3 28 c2 b9 71 b2 fe 78 5a 6a b6 0a 9a fc 10 73 b6 77 df 4e e4 d7 6f 72\n"
     ]
    }
   ],
   "source": [
    "key = Gfield(np.array([0x00, 0x00, 0x00, 0x00, 0x00, 0x00, 0x00, 0x00, 0x00, 0x00, 0x00, 0x00, 0x00, 0x00, 0x00, 0x00]))\n",
    "Ptext = Gfield(np.array([0x00, 0x00, 0x00, 0x00, 0x00, 0x00, 0x00, 0x00, 0x00, 0x00, 0x00, 0x00, 0x00, 0x00, 0x00, 0x00]))\n",
    "IV = 0x1\n",
    "# Encrypt using GCM mode\n",
    "output = gcmEncrypt(Ptext, key, IV)  # Encrypt using GCM mode\n",
    "printVectorHex(output)  # Print only the tag part"
   ]
  },
  {
   "cell_type": "markdown",
   "id": "336deb64",
   "metadata": {},
   "source": [
    "## Test case 3 (page 28)"
   ]
  },
  {
   "cell_type": "code",
   "execution_count": 149,
   "id": "9dbddb37",
   "metadata": {},
   "outputs": [
    {
     "name": "stdout",
     "output_type": "stream",
     "text": [
      "H:\n",
      "b8 3b 53 37 08 bf 53 5d 0a a6 e5 29 80 d5 3b 78\n",
      "Initial Vector:\n",
      "32 47 18 4b 3c 4f 69 a4 4d bc d2 28 87 bb b4 18\n",
      "Initial Tag:\n",
      "00 03 12 02 00 37 50 04 0a 22 21 21 80 d0 10 18\n",
      "Tag: [178 127  27  92  52  92  42 252  79 152 247  32 135 107 173  40]\n",
      "b2 7f 1b 5c 34 5c 2a fc 4f 98 f7 20 87 6b ad 28\n"
     ]
    }
   ],
   "source": [
    "vector = Gfield(np.array([\n",
    "    0xd9, 0x31, 0x32, 0x25, 0xf8, 0x84, 0x06, 0xe5,\n",
    "    0xa5, 0x59, 0x09, 0xc5, 0xaf, 0xf5, 0x26, 0x9a,\n",
    "    0x86, 0xa7, 0xa9, 0x53, 0x15, 0x34, 0xf7, 0xda,\n",
    "    0x2e, 0x4c, 0x30, 0x3d, 0x8a, 0x31, 0x8a, 0x72,\n",
    "    0x1c, 0x3c, 0x0c, 0x95, 0x95, 0x68, 0x09, 0x53,\n",
    "    0x2f, 0xcf, 0x0e, 0x24, 0x49, 0xa6, 0xb5, 0x25,\n",
    "    0xb1, 0x6a, 0xed, 0xf5, 0xaa, 0x0d, 0xe6, 0x57,\n",
    "    0xba, 0x63, 0x7b, 0x39, 0x1a, 0xaf, 0xd2, 0x55\n",
    "], dtype=int))\n",
    "key = Gfield(np.array([0xfe, 0xff, 0xe9, 0x92, 0x86, 0x65, 0x73, 0x1c,\n",
    "                0x6d, 0x6a, 0x8f, 0x94, 0x67, 0x30, 0x83, 0x08]))\n",
    "\n",
    "IV = 0xcafebabefacedbaddecaf88800000001\n",
    "\n",
    "#printVectorHex(counterMode(vector, key, IV + 1))  # For verification\n",
    "\n",
    "output = gcmEncrypt(vector, key, IV) # Encrypt using GCM mode\n",
    "\n",
    "printVectorHex(output[64:])\n",
    "\n",
    "#32 47 18 4b 3c 4f 69 a4 4d bc d2 28 87 bb b4 18"
   ]
  },
  {
   "cell_type": "markdown",
   "id": "0c8b10b0",
   "metadata": {},
   "source": [
    "## Test of GCM"
   ]
  },
  {
   "cell_type": "code",
   "execution_count": 108,
   "id": "2621e5a3",
   "metadata": {},
   "outputs": [
    {
     "name": "stdout",
     "output_type": "stream",
     "text": [
      "Message:  [[ 50 136  49 224]\n",
      " [ 67  90  49  55]\n",
      " [246  48 152   7]\n",
      " [168 141 162  52]] \n",
      "\n",
      "H:\n",
      "7d f7 6b 0c 1a b8 99 b3 3e 42 f0 47 b9 1b 54 6f\n",
      "Initial Vector:\n",
      "7d f7 6b 0c 1a b8 99 b3 3e 42 f0 47 b9 1b 54 6f\n",
      "Initial Tag:\n",
      "65 92 48 00 12 a8 89 80 18 40 f0 06 29 1b 44 62\n",
      "S after block 0 :\n",
      "65 92 48 00 12 a8 89 80 18 40 f0 06 29 1b 44 62\n",
      "Tag: [125 247 107  12  26 184 153 179  62  66 240  71 185  27  84 111]\n",
      "Encrypted message:  [101 154  76 160 119 235 143 136  88 196 254 190 111 255 205 242 125 247\n",
      " 107  12  26 184 153 179  62  66 240  71 185  27  84 111] \n",
      "\n",
      "First 16 bits:  [101 154  76 160 119 235 143 136  88 196 254 190 111 255 205 242] \n",
      "\n",
      "Last 16 bits (tag):  [125 247 107  12  26 184 153 179  62  66 240  71 185  27  84 111] \n",
      "\n",
      "H:\n",
      "7d f7 6b 0c 1a b8 99 b3 3e 42 f0 47 b9 1b 54 6f\n",
      "Initial Vector:\n",
      "7d f7 6b 0c 1a b8 99 b3 3e 42 f0 47 b9 1b 54 6f\n",
      "Initial Tag:\n",
      "65 92 48 00 12 a8 89 80 18 40 f0 06 29 1b 44 62\n",
      "S after block 0 :\n",
      "65 92 48 00 12 a8 89 80 18 40 f0 06 29 1b 44 62\n",
      "Computed tag:  [125 247 107  12  26 184 153 179  62  66 240  71 185  27  84 111] \n",
      "\n",
      "By comparing the Computed tag with the last 16 tagbits the tag is valid, message integrity verified. \n",
      "\n",
      "A message with deliberately made error in the first byte:  [125 154  76 160 119 235 143 136  88 196 254 190 111 255 205 242 125 247\n",
      " 107  12  26 184 153 179  62  66 240  71 185  27  84 111] \n",
      "\n",
      "First 16 bits:  [125 154  76 160 119 235 143 136  88 196 254 190 111 255 205 242] \n",
      "\n",
      "Last 16 bits (tag):  [125 247 107  12  26 184 153 179  62  66 240  71 185  27  84 111] \n",
      "\n",
      "H:\n",
      "7d f7 6b 0c 1a b8 99 b3 3e 42 f0 47 b9 1b 54 6f\n",
      "Initial Vector:\n",
      "7d f7 6b 0c 1a b8 99 b3 3e 42 f0 47 b9 1b 54 6f\n",
      "Initial Tag:\n",
      "7d 92 48 00 12 a8 89 80 18 40 f0 06 29 1b 44 62\n",
      "S after block 0 :\n",
      "7d 92 48 00 12 a8 89 80 18 40 f0 06 29 1b 44 62\n",
      "Computed tag:  [125 247 107  12  26 184 153 179  62  66 240  71 185  27  84 111] \n",
      "\n",
      "By comparing the Computed tag with the last 16 tagbits the tag is valid, message integrity verified. \n",
      "\n"
     ]
    }
   ],
   "source": [
    "stateMatrix = Gfield(np.array([[0x32, 0x88, 0x31, 0xe0],\n",
    "                                   [0x43, 0x5a, 0x31, 0x37],\n",
    "                                   [0xf6, 0x30, 0x98, 0x07],\n",
    "                                   [0xa8, 0x8d, 0xa2, 0x34]]))\n",
    "\n",
    "testKey = Gfield(np.array([0x2b, 0x7e, 0x15, 0x16, 0x28, 0xae, 0xd2, 0xa6, 0xab, 0xf7, 0x15, 0x88, 0x09, 0xcf, 0x4f, 0x3c]))\n",
    "\n",
    "print(\"Message: \", stateMatrix, \"\\n\")\n",
    "\n",
    "# Encrypt the state matrix using GCM mode\n",
    "encryptedMsg = gcmEncrypt(stateMatrix, testKey, 0)\n",
    "print(\"Encrypted message: \", encryptedMsg, \"\\n\")\n",
    "\n",
    "# Split the encrypted message into the ciphertext and tag\n",
    "recivedMsg = encryptedMsg[:-16]\n",
    "recievedTag = encryptedMsg[-16:]\n",
    "\n",
    "print(\"First 16 bits: \", recivedMsg, \"\\n\")\n",
    "print(\"Last 16 bits (tag): \", recievedTag, \"\\n\")\n",
    "\n",
    "# Compute the tag for the received message\n",
    "computedTag = computeTag(recivedMsg, testKey, 0)\n",
    "print(\"Computed tag: \", computedTag, \"\\n\")\n",
    "\n",
    "# Verify the tag\n",
    "if np.array_equal(recievedTag, computedTag):\n",
    "    print(\"By comparing the Computed tag with the last 16 tagbits the tag is valid, message integrity verified. \\n\")\n",
    "else:\n",
    "    print(\"By comparing the Computed tag with the last 16 tagbits, a tag mismatch is seen, message integrity compromised. \\n\")\n",
    "\n",
    "#Create an error message\n",
    "errorMessage = encryptedMsg\n",
    "\n",
    "#Inject an error into the error message\n",
    "errorMessage[0] = 125\n",
    "print(\"A message with deliberately made error in the first byte: \", errorMessage, \"\\n\")\n",
    "\n",
    "# Split the error message into the received message and tag\n",
    "recivedMsgError = errorMessage[:-16]\n",
    "recievedTagError = errorMessage[-16:]\n",
    "\n",
    "\n",
    "print(\"First 16 bits: \", recivedMsgError, \"\\n\")\n",
    "print(\"Last 16 bits (tag): \", recievedTagError, \"\\n\")\n",
    "\n",
    "# Compute the tag for the received message with error\n",
    "computedTagError = computeTag(recivedMsgError, testKey, 0)\n",
    "print(\"Computed tag: \", computedTagError, \"\\n\")\n",
    "\n",
    "# Verify the tag for the message with error\n",
    "if np.array_equal(recievedTagError, computedTagError):\n",
    "    print(\"By comparing the Computed tag with the last 16 tagbits the tag is valid, message integrity verified. \\n\")\n",
    "else:\n",
    "    print(\"By comparing the Computed tag with the last 16 tagbits, a tag mismatch is seen, message integrity compromised. \\n\")"
   ]
  }
 ],
 "metadata": {
  "kernelspec": {
   "display_name": "34220Ex",
   "language": "python",
   "name": "python3"
  },
  "language_info": {
   "codemirror_mode": {
    "name": "ipython",
    "version": 3
   },
   "file_extension": ".py",
   "mimetype": "text/x-python",
   "name": "python",
   "nbconvert_exporter": "python",
   "pygments_lexer": "ipython3",
   "version": "3.11.9"
  }
 },
 "nbformat": 4,
 "nbformat_minor": 5
}
