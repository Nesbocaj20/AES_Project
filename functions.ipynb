{
 "cells": [
  {
   "cell_type": "markdown",
   "id": "577eae36",
   "metadata": {},
   "source": [
    "## Shift rows"
   ]
  },
  {
   "cell_type": "code",
   "execution_count": 8,
   "id": "1d1e496f",
   "metadata": {},
   "outputs": [
    {
     "data": {
      "text/plain": [
       "array([[1, 2, 3, 4],\n",
       "       [2, 3, 4, 1],\n",
       "       [3, 4, 1, 2],\n",
       "       [4, 1, 2, 3]])"
      ]
     },
     "execution_count": 8,
     "metadata": {},
     "output_type": "execute_result"
    }
   ],
   "source": [
    "import numpy as np\n",
    "\n",
    "def shiftRows(stateMatrix):\n",
    "    return np.array([np.roll(row, shift = -i) for i, row in enumerate(matrix)])\n",
    "\n",
    "\n",
    "matrix = np.array([[1,2,3,4],\n",
    "                   [1,2,3,4],\n",
    "                   [1,2,3,4],\n",
    "                   [1,2,3,4]])\n",
    "\n",
    "shiftRows(matrix)"
   ]
  },
  {
   "cell_type": "markdown",
   "id": "ed8bebbf",
   "metadata": {},
   "source": [
    "## AddRoundkey"
   ]
  },
  {
   "cell_type": "markdown",
   "id": "a7a0abc8",
   "metadata": {},
   "source": [
    "## Mix columns"
   ]
  },
  {
   "cell_type": "markdown",
   "id": "d289fa52",
   "metadata": {},
   "source": [
    "## SubBytes"
   ]
  }
 ],
 "metadata": {
  "kernelspec": {
   "display_name": "34220Ex",
   "language": "python",
   "name": "python3"
  },
  "language_info": {
   "codemirror_mode": {
    "name": "ipython",
    "version": 3
   },
   "file_extension": ".py",
   "mimetype": "text/x-python",
   "name": "python",
   "nbconvert_exporter": "python",
   "pygments_lexer": "ipython3",
   "version": "3.12.4"
  }
 },
 "nbformat": 4,
 "nbformat_minor": 5
}
